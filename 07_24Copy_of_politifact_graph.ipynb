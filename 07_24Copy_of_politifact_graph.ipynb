{
  "nbformat": 4,
  "nbformat_minor": 0,
  "metadata": {
    "colab": {
      "name": "Copy of politifact_graph.ipynb",
      "provenance": [],
      "collapsed_sections": [],
      "include_colab_link": true
    },
    "kernelspec": {
      "name": "python3",
      "display_name": "Python 3"
    },
    "language_info": {
      "name": "python"
    },
    "accelerator": "GPU",
    "gpuClass": "standard"
  },
  "cells": [
    {
      "cell_type": "markdown",
      "metadata": {
        "id": "view-in-github",
        "colab_type": "text"
      },
      "source": [
        "<a href=\"https://colab.research.google.com/github/verma-saloni/Articles/blob/master/07_24Copy_of_politifact_graph.ipynb\" target=\"_parent\"><img src=\"https://colab.research.google.com/assets/colab-badge.svg\" alt=\"Open In Colab\"/></a>"
      ]
    },
    {
      "cell_type": "code",
      "execution_count": null,
      "metadata": {
        "id": "xpTeMbYZwmf7"
      },
      "outputs": [],
      "source": [
        "!pip -qq install jsonlines"
      ]
    },
    {
      "cell_type": "code",
      "source": [
        "from google.colab import drive\n",
        "drive.mount('/gdrive')\n",
        "\n",
        "from pathlib import Path\n",
        "base_dir = Path(\"/gdrive/MyDrive/ResearchFND\")\n",
        "assert base_dir.exists()"
      ],
      "metadata": {
        "colab": {
          "base_uri": "https://localhost:8080/"
        },
        "id": "UxNEaltli8H_",
        "outputId": "2ef65b7f-2b2e-42e8-aad8-8718e9d4f848"
      },
      "execution_count": null,
      "outputs": [
        {
          "output_type": "stream",
          "name": "stdout",
          "text": [
            "Drive already mounted at /gdrive; to attempt to forcibly remount, call drive.mount(\"/gdrive\", force_remount=True).\n"
          ]
        }
      ]
    },
    {
      "cell_type": "markdown",
      "source": [
        "### Twt user graphs"
      ],
      "metadata": {
        "id": "60XHa2QqsF2p"
      }
    },
    {
      "cell_type": "code",
      "source": [
        "import networkx as nx\n",
        "import jsonlines"
      ],
      "metadata": {
        "id": "7lCdLfhNsEyM"
      },
      "execution_count": null,
      "outputs": []
    },
    {
      "cell_type": "code",
      "source": [
        "graph = nx.DiGraph()"
      ],
      "metadata": {
        "id": "Q0vjdfpgsQJ_"
      },
      "execution_count": null,
      "outputs": []
    },
    {
      "cell_type": "code",
      "source": [
        "with jsonlines.open(base_dir/\"followers.jsonl\") as reader:\n",
        "    for line in reader:\n",
        "        v = line[\"user_id\"]\n",
        "        for u in line[\"followers\"]:\n",
        "            graph.add_edge(u, v)"
      ],
      "metadata": {
        "id": "KnrRSt2Qsb6O"
      },
      "execution_count": null,
      "outputs": []
    },
    {
      "cell_type": "code",
      "source": [
        "with jsonlines.open(base_dir/\"following.jsonl\") as reader:\n",
        "    for line in reader:\n",
        "        u = line[\"user_id\"]\n",
        "        for v in line[\"following\"]:\n",
        "            graph.add_edge(u, v)"
      ],
      "metadata": {
        "id": "Y7DLQ78as4pZ"
      },
      "execution_count": null,
      "outputs": []
    },
    {
      "cell_type": "code",
      "source": [
        "graph.number_of_nodes(), graph.number_of_edges()"
      ],
      "metadata": {
        "colab": {
          "base_uri": "https://localhost:8080/"
        },
        "id": "MCN3DvNQtiJR",
        "outputId": "b4f0f440-36e5-4418-f2c4-c06728e8c8aa"
      },
      "execution_count": null,
      "outputs": [
        {
          "output_type": "execute_result",
          "data": {
            "text/plain": [
              "(31792, 48408)"
            ]
          },
          "metadata": {},
          "execution_count": 17
        }
      ]
    },
    {
      "cell_type": "code",
      "source": [
        "followed = [n for n in graph.nodes if graph.in_degree(n)>2]\n",
        "len(followed)"
      ],
      "metadata": {
        "colab": {
          "base_uri": "https://localhost:8080/"
        },
        "id": "v-x18_ZZulOd",
        "outputId": "3e4fd2ed-76e7-4080-8b40-912de5acedea"
      },
      "execution_count": null,
      "outputs": [
        {
          "output_type": "execute_result",
          "data": {
            "text/plain": [
              "444"
            ]
          },
          "metadata": {},
          "execution_count": 18
        }
      ]
    },
    {
      "cell_type": "code",
      "source": [
        "import random\n",
        "\n",
        "sample_nodes = random.sample(followed, 12)\n",
        "sg = graph.edge_subgraph(graph.in_edges(sample_nodes))\n",
        "sg.number_of_nodes(), sg.number_of_edges()"
      ],
      "metadata": {
        "id": "ytEH363Cu7e_",
        "colab": {
          "base_uri": "https://localhost:8080/"
        },
        "outputId": "bfc1b4d5-1f1f-479c-ff5a-21ea832bbfed"
      },
      "execution_count": null,
      "outputs": [
        {
          "output_type": "execute_result",
          "data": {
            "text/plain": [
              "(23, 44)"
            ]
          },
          "metadata": {},
          "execution_count": 19
        }
      ]
    },
    {
      "cell_type": "code",
      "source": [
        "nx.draw(sg, node_size=100)"
      ],
      "metadata": {
        "colab": {
          "base_uri": "https://localhost:8080/",
          "height": 319
        },
        "id": "yYc34e6ts7PN",
        "outputId": "0cbcf5a1-1ffa-4dd0-cd68-8969587f2f12"
      },
      "execution_count": null,
      "outputs": [
        {
          "output_type": "display_data",
          "data": {
            "text/plain": [
              "<Figure size 432x288 with 1 Axes>"
            ],
            "image/png": "[encoded data removed]"
          },
          "metadata": {}
        }
      ]
    },
    {
      "cell_type": "markdown",
      "source": [
        "### Node embeddings"
      ],
      "metadata": {
        "id": "qbRXmgXCwoNj"
      }
    },
    {
      "cell_type": "code",
      "execution_count": null,
      "metadata": {
        "colab": {
          "base_uri": "https://localhost:8080/"
        },
        "id": "28effea1-9db8-4c0f-b037-3df8dadbea17",
        "outputId": "18bb945e-871c-4dea-dd0a-ccdbb85fe832"
      },
      "outputs": [
        {
          "output_type": "stream",
          "name": "stdout",
          "text": [
            "  Building wheel for csrgraph (setup.py) ... \u001b[?25l\u001b[?25hdone\n",
            "  Building wheel for nodevectors (setup.py) ... \u001b[?25l\u001b[?25hdone\n"
          ]
        }
      ],
      "source": [
        "!pip install -Uqq csrgraph nodevectors"
      ]
    },
    {
      "cell_type": "code",
      "source": [
        "import csrgraph as cg\n",
        "from nodevectors import Node2Vec"
      ],
      "metadata": {
        "id": "qvL85vFzr2XK"
      },
      "execution_count": null,
      "outputs": []
    },
    {
      "cell_type": "markdown",
      "source": [
        "#### user vectors"
      ],
      "metadata": {
        "id": "odOQGulI-EeS"
      }
    },
    {
      "cell_type": "code",
      "source": [
        "n2v = Node2Vec(n_components=128, walklen=10, epochs=10)"
      ],
      "metadata": {
        "id": "RvlSsu6jvXS7"
      },
      "execution_count": null,
      "outputs": []
    },
    {
      "cell_type": "code",
      "source": [
        "n2v.fit(graph)"
      ],
      "metadata": {
        "colab": {
          "base_uri": "https://localhost:8080/"
        },
        "id": "EHoiGFydwFMk",
        "outputId": "af696748-7047-4823-c293-acffb1c3f7ff"
      },
      "execution_count": null,
      "outputs": [
        {
          "output_type": "stream",
          "name": "stdout",
          "text": [
            "Making walks... "
          ]
        },
        {
          "output_type": "stream",
          "name": "stderr",
          "text": [
            "/usr/local/lib/python3.7/dist-packages/numba/np/ufunc/parallel.py:363: NumbaWarning: The TBB threading layer requires TBB version 2019.5 or later i.e., TBB_INTERFACE_VERSION >= 11005. Found TBB_INTERFACE_VERSION = 9107. The TBB threading layer is disabled.\n",
            "  warnings.warn(problem)\n"
          ]
        },
        {
          "output_type": "stream",
          "name": "stdout",
          "text": [
            "Done, T=5.25\n",
            "Mapping Walk Names... Done, T=7.71\n",
            "Training W2V... WARNING: gensim word2vec version is unoptimizedTry version 3.6 if on windows, versions 3.7 and 3.8 have had issues\n",
            "Done, T=84.63\n"
          ]
        }
      ]
    },
    {
      "cell_type": "code",
      "source": [
        "n2v.predict(followed[0])"
      ],
      "metadata": {
        "colab": {
          "base_uri": "https://localhost:8080/"
        },
        "id": "RicJpnXuwJhE",
        "outputId": "df782e17-8f72-4e30-9eb1-ea08fb0437f1"
      },
      "execution_count": null,
      "outputs": [
        {
          "output_type": "execute_result",
          "data": {
            "text/plain": [
              "array([-0.3675863 ,  0.1282412 ,  0.22299092, -0.31979853,  0.18588693,\n",
              "       -0.11166151, -0.25063002, -0.00243194,  0.3993893 ,  0.2265691 ,\n",
              "        0.24865997, -0.00837706, -0.07028485, -0.20618919,  0.23557512,\n",
              "       -0.14061683,  0.30435127, -0.39891508,  0.06668442, -0.33265588,\n",
              "       -0.02163144, -0.36777756, -0.16099092,  0.21908268, -0.19462305,\n",
              "       -0.40506038, -0.25495267, -0.45383984, -0.5653268 ,  0.35322955,\n",
              "       -0.5327221 ,  0.52026945,  0.32708022,  0.0113182 ,  0.40652302,\n",
              "        0.21851438,  0.10024845,  0.35892075,  0.40906376,  0.04410933,\n",
              "       -0.50577044,  0.21270105,  0.5493385 ,  0.15493374,  0.09996232,\n",
              "       -0.37725475, -0.37640077,  0.2239793 ,  0.17491885, -0.2525284 ,\n",
              "        0.16396652,  0.25392124,  0.3824317 , -0.03385516,  0.4343061 ,\n",
              "       -0.01122301,  0.03740161,  0.06381975, -0.02905279, -0.05415915,\n",
              "       -0.09567568, -0.35780594,  0.2964456 , -0.5187444 ,  0.10663714,\n",
              "       -0.30514914,  0.13067374, -0.05766976, -0.25125933,  0.02838036,\n",
              "       -0.10923844,  0.3680409 ,  0.1466139 , -0.29836094,  0.4735993 ,\n",
              "        0.41329947, -0.26242357, -0.5369673 , -0.43316695, -0.168669  ,\n",
              "        0.18525039, -0.14915812,  0.4306212 , -0.1937244 ,  0.535601  ,\n",
              "       -0.06732793, -0.42905512, -0.11690461,  0.29821655, -0.44861498,\n",
              "        0.20499462, -0.34825817,  0.07389084, -0.3002827 , -0.31174114,\n",
              "        0.05700825,  0.56036174,  0.2569448 ,  0.2916066 , -0.18752065,\n",
              "       -0.42436475,  0.2378338 , -0.4374494 , -0.32618782, -0.21294492,\n",
              "        0.3716916 , -0.12359514,  0.25273126, -0.5215603 ,  0.18840842,\n",
              "       -0.20114021, -0.3934462 ,  0.49193785,  0.04989393,  0.12659249,\n",
              "        0.12628333, -0.33194947, -0.38520122, -0.4027925 , -0.27302036,\n",
              "        0.11351606,  0.12338854, -0.22894095, -0.24686773,  0.19909653,\n",
              "        0.02797645,  0.00258626, -0.26178077], dtype=float32)"
            ]
          },
          "metadata": {},
          "execution_count": 25
        }
      ]
    },
    {
      "cell_type": "markdown",
      "source": [
        "## user-article graph"
      ],
      "metadata": {
        "id": "NHdG78wwVumY"
      }
    },
    {
      "cell_type": "code",
      "source": [
        "import pandas as pd\n",
        "import ast"
      ],
      "metadata": {
        "id": "7tPiW_FBWO8s"
      },
      "execution_count": null,
      "outputs": []
    },
    {
      "cell_type": "code",
      "source": [
        "df = pd.read_csv(base_dir/'politifact_agg.csv', index_col=0)\n",
        "df.head(2)"
      ],
      "metadata": {
        "colab": {
          "base_uri": "https://localhost:8080/",
          "height": 112
        },
        "id": "0BsiweMKV3Kt",
        "outputId": "c2081efb-8798-419c-fdb1-3753c3ad4b1e"
      },
      "execution_count": null,
      "outputs": [
        {
          "output_type": "execute_result",
          "data": {
            "text/plain": [
              "                                               title text tweets  \\\n",
              "0   Actress Emma Stone ‘For the first time in his...  NaN     []   \n",
              "1   Breaking President Trump makes English the of...  NaN     []   \n",
              "\n",
              "                                            retweets label  url tweet_ids  \\\n",
              "0  ['1020554564334964741', '1020817527046197248',...  fake  NaN        []   \n",
              "1                                                 []  fake  NaN        []   \n",
              "\n",
              "   num_retweets  log_num_retweets  num_tweets  log_num_tweets  \n",
              "0          2911          7.976595           0             0.0  \n",
              "1             0          0.000000           0             0.0  "
            ],
            "text/html": [
              "\n",
              "  <div id=\"df-7c002453-36bc-45de-be89-5925a63ed715\">\n",
              "    <div class=\"colab-df-container\">\n",
              "      <div>\n",
              "<style scoped>\n",
              "    .dataframe tbody tr th:only-of-type {\n",
              "        vertical-align: middle;\n",
              "    }\n",
              "\n",
              "    .dataframe tbody tr th {\n",
              "        vertical-align: top;\n",
              "    }\n",
              "\n",
              "    .dataframe thead th {\n",
              "        text-align: right;\n",
              "    }\n",
              "</style>\n",
              "<table border=\"1\" class=\"dataframe\">\n",
              "  <thead>\n",
              "    <tr style=\"text-align: right;\">\n",
              "      <th></th>\n",
              "      <th>title</th>\n",
              "      <th>text</th>\n",
              "      <th>tweets</th>\n",
              "      <th>retweets</th>\n",
              "      <th>label</th>\n",
              "      <th>url</th>\n",
              "      <th>tweet_ids</th>\n",
              "      <th>num_retweets</th>\n",
              "      <th>log_num_retweets</th>\n",
              "      <th>num_tweets</th>\n",
              "      <th>log_num_tweets</th>\n",
              "    </tr>\n",
              "  </thead>\n",
              "  <tbody>\n",
              "    <tr>\n",
              "      <th>0</th>\n",
              "      <td>Actress Emma Stone ‘For the first time in his...</td>\n",
              "      <td>NaN</td>\n",
              "      <td>[]</td>\n",
              "      <td>['1020554564334964741', '1020817527046197248',...</td>\n",
              "      <td>fake</td>\n",
              "      <td>NaN</td>\n",
              "      <td>[]</td>\n",
              "      <td>2911</td>\n",
              "      <td>7.976595</td>\n",
              "      <td>0</td>\n",
              "      <td>0.0</td>\n",
              "    </tr>\n",
              "    <tr>\n",
              "      <th>1</th>\n",
              "      <td>Breaking President Trump makes English the of...</td>\n",
              "      <td>NaN</td>\n",
              "      <td>[]</td>\n",
              "      <td>[]</td>\n",
              "      <td>fake</td>\n",
              "      <td>NaN</td>\n",
              "      <td>[]</td>\n",
              "      <td>0</td>\n",
              "      <td>0.000000</td>\n",
              "      <td>0</td>\n",
              "      <td>0.0</td>\n",
              "    </tr>\n",
              "  </tbody>\n",
              "</table>\n",
              "</div>\n",
              "      <button class=\"colab-df-convert\" onclick=\"convertToInteractive('df-7c002453-36bc-45de-be89-5925a63ed715')\"\n",
              "              title=\"Convert this dataframe to an interactive table.\"\n",
              "              style=\"display:none;\">\n",
              "        \n",
              "  <svg xmlns=\"http://www.w3.org/2000/svg\" height=\"24px\"viewBox=\"0 0 24 24\"\n",
              "       width=\"24px\">\n",
              "    <path d=\"M0 0h24v24H0V0z\" fill=\"none\"/>\n",
              "    <path d=\"M18.56 5.44l.94 2.06.94-2.06 2.06-.94-2.06-.94-.94-2.06-.94 2.06-2.06.94zm-11 1L8.5 8.5l.94-2.06 2.06-.94-2.06-.94L8.5 2.5l-.94 2.06-2.06.94zm10 10l.94 2.06.94-2.06 2.06-.94-2.06-.94-.94-2.06-.94 2.06-2.06.94z\"/><path d=\"M17.41 7.96l-1.37-1.37c-.4-.4-.92-.59-1.43-.59-.52 0-1.04.2-1.43.59L10.3 9.45l-7.72 7.72c-.78.78-.78 2.05 0 2.83L4 21.41c.39.39.9.59 1.41.59.51 0 1.02-.2 1.41-.59l7.78-7.78 2.81-2.81c.8-.78.8-2.07 0-2.86zM5.41 20L4 18.59l7.72-7.72 1.47 1.35L5.41 20z\"/>\n",
              "  </svg>\n",
              "      </button>\n",
              "      \n",
              "  <style>\n",
              "    .colab-df-container {\n",
              "      display:flex;\n",
              "      flex-wrap:wrap;\n",
              "      gap: 12px;\n",
              "    }\n",
              "\n",
              "    .colab-df-convert {\n",
              "      background-color: #E8F0FE;\n",
              "      border: none;\n",
              "      border-radius: 50%;\n",
              "      cursor: pointer;\n",
              "      display: none;\n",
              "      fill: #1967D2;\n",
              "      height: 32px;\n",
              "      padding: 0 0 0 0;\n",
              "      width: 32px;\n",
              "    }\n",
              "\n",
              "    .colab-df-convert:hover {\n",
              "      background-color: #E2EBFA;\n",
              "      box-shadow: 0px 1px 2px rgba(60, 64, 67, 0.3), 0px 1px 3px 1px rgba(60, 64, 67, 0.15);\n",
              "      fill: #174EA6;\n",
              "    }\n",
              "\n",
              "    [theme=dark] .colab-df-convert {\n",
              "      background-color: #3B4455;\n",
              "      fill: #D2E3FC;\n",
              "    }\n",
              "\n",
              "    [theme=dark] .colab-df-convert:hover {\n",
              "      background-color: #434B5C;\n",
              "      box-shadow: 0px 1px 3px 1px rgba(0, 0, 0, 0.15);\n",
              "      filter: drop-shadow(0px 1px 2px rgba(0, 0, 0, 0.3));\n",
              "      fill: #FFFFFF;\n",
              "    }\n",
              "  </style>\n",
              "\n",
              "      <script>\n",
              "        const buttonEl =\n",
              "          document.querySelector('#df-7c002453-36bc-45de-be89-5925a63ed715 button.colab-df-convert');\n",
              "        buttonEl.style.display =\n",
              "          google.colab.kernel.accessAllowed ? 'block' : 'none';\n",
              "\n",
              "        async function convertToInteractive(key) {\n",
              "          const element = document.querySelector('#df-7c002453-36bc-45de-be89-5925a63ed715');\n",
              "          const dataTable =\n",
              "            await google.colab.kernel.invokeFunction('convertToInteractive',\n",
              "                                                     [key], {});\n",
              "          if (!dataTable) return;\n",
              "\n",
              "          const docLinkHtml = 'Like what you see? Visit the ' +\n",
              "            '<a target=\"_blank\" href=https://colab.research.google.com/notebooks/data_table.ipynb>data table notebook</a>'\n",
              "            + ' to learn more about interactive tables.';\n",
              "          element.innerHTML = '';\n",
              "          dataTable['output_type'] = 'display_data';\n",
              "          await google.colab.output.renderOutput(dataTable, element);\n",
              "          const docLink = document.createElement('div');\n",
              "          docLink.innerHTML = docLinkHtml;\n",
              "          element.appendChild(docLink);\n",
              "        }\n",
              "      </script>\n",
              "    </div>\n",
              "  </div>\n",
              "  "
            ]
          },
          "metadata": {},
          "execution_count": 27
        }
      ]
    },
    {
      "cell_type": "code",
      "source": [
        "df['tweets'] = df.tweets.map(ast.literal_eval)"
      ],
      "metadata": {
        "id": "cruZFCpNWRLb"
      },
      "execution_count": null,
      "outputs": []
    },
    {
      "cell_type": "code",
      "source": [
        "# df[df.tweets.map(len) > 0]"
      ],
      "metadata": {
        "id": "FmEDMzaPWrT2"
      },
      "execution_count": null,
      "outputs": []
    },
    {
      "cell_type": "code",
      "source": [
        "users_tweeted = df.tweets.map(lambda x: [int(e['user_id']) for e in x])"
      ],
      "metadata": {
        "id": "wH5i98HOWz1w"
      },
      "execution_count": null,
      "outputs": []
    },
    {
      "cell_type": "code",
      "source": [
        "len(users_tweeted), sum(users_tweeted.map(len) > 0)"
      ],
      "metadata": {
        "colab": {
          "base_uri": "https://localhost:8080/"
        },
        "id": "exnDy-5ud_uJ",
        "outputId": "8769dfed-4e4a-46ce-aa33-1bba9afcb1e9"
      },
      "execution_count": null,
      "outputs": [
        {
          "output_type": "execute_result",
          "data": {
            "text/plain": [
              "(894, 149)"
            ]
          },
          "metadata": {},
          "execution_count": 31
        }
      ]
    },
    {
      "cell_type": "code",
      "source": [
        "users_tweeted[users_tweeted.map(len) > 0]"
      ],
      "metadata": {
        "colab": {
          "base_uri": "https://localhost:8080/"
        },
        "id": "1RfPGb15XgKE",
        "outputId": "2b74b633-6dc4-405d-e2c0-87fa24d6b183"
      },
      "execution_count": null,
      "outputs": [
        {
          "output_type": "execute_result",
          "data": {
            "text/plain": [
              "8      [1191949489, 51600575, 2984014208, 15496777, 4...\n",
              "10     [24636033, 22473015, 129262130, 181289232, 181...\n",
              "11     [490975378, 116344653, 79423345, 53347857, 842...\n",
              "12     [586165566, 393939273, 891366735064039425, 991...\n",
              "14     [886818711105138688, 172947702, 993606350, 428...\n",
              "                             ...                        \n",
              "875    [14378429, 3187248602, 484966779, 950864702669...\n",
              "880    [2236833270, 22250210, 54835665, 347507710, 45...\n",
              "884    [2582795785, 736847516537368576, 7769521655752...\n",
              "887    [348175292, 810185480469880833, 84976273735388...\n",
              "893    [747513995096055808, 19086760, 27623387, 12455...\n",
              "Name: tweets, Length: 149, dtype: object"
            ]
          },
          "metadata": {},
          "execution_count": 32
        }
      ]
    },
    {
      "cell_type": "code",
      "source": [
        "unique_users = set()\n",
        "for e in users_tweeted:\n",
        "    unique_users.update(set(e))\n",
        "\n",
        "len(unique_users)"
      ],
      "metadata": {
        "colab": {
          "base_uri": "https://localhost:8080/"
        },
        "id": "fUjaXHhFYIMc",
        "outputId": "e52aaed2-9f68-4fef-acab-53ada5c35d4a"
      },
      "execution_count": null,
      "outputs": [
        {
          "output_type": "execute_result",
          "data": {
            "text/plain": [
              "40723"
            ]
          },
          "metadata": {},
          "execution_count": 33
        }
      ]
    },
    {
      "cell_type": "code",
      "source": [
        "min(unique_users)"
      ],
      "metadata": {
        "colab": {
          "base_uri": "https://localhost:8080/"
        },
        "id": "YHgKrYoEYTZQ",
        "outputId": "fabb6bc1-6e47-4785-d6dd-922ecb441221"
      },
      "execution_count": null,
      "outputs": [
        {
          "output_type": "execute_result",
          "data": {
            "text/plain": [
              "1688"
            ]
          },
          "metadata": {},
          "execution_count": 34
        }
      ]
    },
    {
      "cell_type": "code",
      "source": [
        "i = 0\n",
        "for u in unique_users:\n",
        "    if u in graph:\n",
        "        i += 1\n",
        "print(i)"
      ],
      "metadata": {
        "colab": {
          "base_uri": "https://localhost:8080/"
        },
        "id": "CF3sOiF_bcip",
        "outputId": "a7453b0b-b044-4a12-d27b-0afe53706dd6"
      },
      "execution_count": null,
      "outputs": [
        {
          "output_type": "stream",
          "name": "stdout",
          "text": [
            "756\n"
          ]
        }
      ]
    },
    {
      "cell_type": "code",
      "source": [
        "users_retweeted = df.retweets.map(lambda x: [int(e) for e in ast.literal_eval(x)])"
      ],
      "metadata": {
        "id": "NPSabn0Je819"
      },
      "execution_count": null,
      "outputs": []
    },
    {
      "cell_type": "code",
      "source": [
        "for e in users_retweeted:\n",
        "    unique_users.update(set(e))\n",
        "\n",
        "len(unique_users)"
      ],
      "metadata": {
        "colab": {
          "base_uri": "https://localhost:8080/"
        },
        "id": "UevgMKgIfeqt",
        "outputId": "400fcb74-1851-4474-a42c-f8206b507df2"
      },
      "execution_count": null,
      "outputs": [
        {
          "output_type": "execute_result",
          "data": {
            "text/plain": [
              "595543"
            ]
          },
          "metadata": {},
          "execution_count": 37
        }
      ]
    },
    {
      "cell_type": "code",
      "source": [
        "i = 0\n",
        "for u in unique_users:\n",
        "    if u in graph:\n",
        "        i += 1\n",
        "print(i)"
      ],
      "metadata": {
        "colab": {
          "base_uri": "https://localhost:8080/"
        },
        "id": "bQttmXbOfwz3",
        "outputId": "d5d32941-f89a-418e-fad1-984745863f5d"
      },
      "execution_count": null,
      "outputs": [
        {
          "output_type": "stream",
          "name": "stdout",
          "text": [
            "756\n"
          ]
        }
      ]
    },
    {
      "cell_type": "code",
      "source": [
        "for i, l in users_tweeted.iteritems():\n",
        "    if not len(l):\n",
        "        continue\n",
        "    a_node = f\"a{i}\"\n",
        "    graph.add_edges_from([(a_node, u_node) for u_node in l if u_node in graph])\n",
        "\n",
        "graph.number_of_nodes(), graph.number_of_edges()"
      ],
      "metadata": {
        "colab": {
          "base_uri": "https://localhost:8080/"
        },
        "id": "TacXl683Z-BC",
        "outputId": "9c6ffc5f-216e-49c2-e330-f35668773c67"
      },
      "execution_count": null,
      "outputs": [
        {
          "output_type": "execute_result",
          "data": {
            "text/plain": [
              "(31896, 49576)"
            ]
          },
          "metadata": {},
          "execution_count": 39
        }
      ]
    },
    {
      "cell_type": "code",
      "source": [
        "tmp = users_tweeted.map(len)\n",
        "tmp.min(), tmp.mean(), tmp.max()"
      ],
      "metadata": {
        "colab": {
          "base_uri": "https://localhost:8080/"
        },
        "id": "-lnh-YSHaYlH",
        "outputId": "ee149d97-ddb4-44c0-ab43-60a1c645b8e6"
      },
      "execution_count": null,
      "outputs": [
        {
          "output_type": "execute_result",
          "data": {
            "text/plain": [
              "(0, 70.42953020134229, 21984)"
            ]
          },
          "metadata": {},
          "execution_count": 40
        }
      ]
    },
    {
      "cell_type": "markdown",
      "source": [
        "## GNN"
      ],
      "metadata": {
        "id": "gI6AtSffmcqr"
      }
    },
    {
      "cell_type": "markdown",
      "source": [
        "### data"
      ],
      "metadata": {
        "id": "FfaOg08xmfEp"
      }
    },
    {
      "cell_type": "code",
      "source": [
        "!pip install dgl"
      ],
      "metadata": {
        "colab": {
          "base_uri": "https://localhost:8080/",
          "height": 486
        },
        "id": "xjD3rF-MmwKa",
        "outputId": "5228d3b5-e600-423c-cb01-9fa4cd903d9b"
      },
      "execution_count": null,
      "outputs": [
        {
          "output_type": "stream",
          "name": "stdout",
          "text": [
            "Looking in indexes: https://pypi.org/simple, https://us-python.pkg.dev/colab-wheels/public/simple/\n",
            "Collecting dgl\n",
            "  Downloading dgl-0.9.0-cp37-cp37m-manylinux1_x86_64.whl (6.2 MB)\n",
            "\u001b[K     |████████████████████████████████| 6.2 MB 6.7 MB/s \n",
            "\u001b[?25hRequirement already satisfied: numpy>=1.14.0 in /usr/local/lib/python3.7/dist-packages (from dgl) (1.21.6)\n",
            "Requirement already satisfied: networkx>=2.1 in /usr/local/lib/python3.7/dist-packages (from dgl) (2.6.3)\n",
            "Requirement already satisfied: tqdm in /usr/local/lib/python3.7/dist-packages (from dgl) (4.64.0)\n",
            "Collecting psutil>=5.8.0\n",
            "  Downloading psutil-5.9.1-cp37-cp37m-manylinux_2_12_x86_64.manylinux2010_x86_64.manylinux_2_17_x86_64.manylinux2014_x86_64.whl (281 kB)\n",
            "\u001b[K     |████████████████████████████████| 281 kB 69.5 MB/s \n",
            "\u001b[?25hRequirement already satisfied: scipy>=1.1.0 in /usr/local/lib/python3.7/dist-packages (from dgl) (1.7.3)\n",
            "Requirement already satisfied: requests>=2.19.0 in /usr/local/lib/python3.7/dist-packages (from dgl) (2.23.0)\n",
            "Requirement already satisfied: urllib3!=1.25.0,!=1.25.1,<1.26,>=1.21.1 in /usr/local/lib/python3.7/dist-packages (from requests>=2.19.0->dgl) (1.24.3)\n",
            "Requirement already satisfied: chardet<4,>=3.0.2 in /usr/local/lib/python3.7/dist-packages (from requests>=2.19.0->dgl) (3.0.4)\n",
            "Requirement already satisfied: certifi>=2017.4.17 in /usr/local/lib/python3.7/dist-packages (from requests>=2.19.0->dgl) (2022.6.15)\n",
            "Requirement already satisfied: idna<3,>=2.5 in /usr/local/lib/python3.7/dist-packages (from requests>=2.19.0->dgl) (2.10)\n",
            "Installing collected packages: psutil, dgl\n",
            "  Attempting uninstall: psutil\n",
            "    Found existing installation: psutil 5.4.8\n",
            "    Uninstalling psutil-5.4.8:\n",
            "      Successfully uninstalled psutil-5.4.8\n",
            "Successfully installed dgl-0.9.0 psutil-5.9.1\n"
          ]
        },
        {
          "output_type": "display_data",
          "data": {
            "application/vnd.colab-display-data+json": {
              "pip_warning": {
                "packages": [
                  "psutil"
                ]
              }
            }
          },
          "metadata": {}
        }
      ]
    },
    {
      "cell_type": "code",
      "source": [
        "import dgl\n",
        "import numpy as np\n",
        "import torch"
      ],
      "metadata": {
        "colab": {
          "base_uri": "https://localhost:8080/"
        },
        "id": "yp52MLR1mdxA",
        "outputId": "cc330e1b-98b8-4e70-870d-70300830c133"
      },
      "execution_count": null,
      "outputs": [
        {
          "output_type": "stream",
          "name": "stdout",
          "text": [
            "Setting the default backend to \"pytorch\". You can change it in the ~/.dgl/config.json file or export the DGLBACKEND environment variable.  Valid options are: pytorch, mxnet, tensorflow (all lowercase)\n"
          ]
        },
        {
          "output_type": "stream",
          "name": "stderr",
          "text": [
            "DGL backend not selected or invalid.  Assuming PyTorch for now.\n"
          ]
        }
      ]
    },
    {
      "cell_type": "code",
      "source": [
        "u2i = {}\n",
        "\n",
        "follow_src = []\n",
        "follow_dst = []\n",
        "with jsonlines.open(base_dir/\"followers.jsonl\") as reader:\n",
        "    for line in reader:\n",
        "        v = line[\"user_id\"]\n",
        "        if v not in u2i:\n",
        "            u2i[v] = len(u2i)\n",
        "        for u in line[\"followers\"]:\n",
        "            if u not in u2i:\n",
        "                u2i[u] = len(u2i)\n",
        "            follow_src.append(u2i[u])\n",
        "            follow_dst.append(u2i[v])"
      ],
      "metadata": {
        "id": "h3XOCaEwoMvx"
      },
      "execution_count": null,
      "outputs": []
    },
    {
      "cell_type": "code",
      "source": [
        "with jsonlines.open(base_dir/\"following.jsonl\") as reader:\n",
        "    for line in reader:\n",
        "        u = line[\"user_id\"]\n",
        "        if u not in u2i:\n",
        "            u2i[u] = len(u2i)\n",
        "        for v in line[\"following\"]:\n",
        "            if v not in u2i:\n",
        "                u2i[v] = len(u2i)\n",
        "            follow_src.append(u2i[u])\n",
        "            follow_dst.append(u2i[v])"
      ],
      "metadata": {
        "id": "sWJFoJ_4oMvz"
      },
      "execution_count": null,
      "outputs": []
    },
    {
      "cell_type": "code",
      "source": [
        "tweet_src = []\n",
        "tweet_dst = []\n",
        "\n",
        "for v, l in users_tweeted.iteritems():\n",
        "    if not len(l):\n",
        "        continue\n",
        "    for u in l:\n",
        "        if u in u2i:\n",
        "            tweet_src.append(u2i[u])\n",
        "            tweet_dst.append(v)"
      ],
      "metadata": {
        "id": "DWM9MEXDpiyX"
      },
      "execution_count": null,
      "outputs": []
    },
    {
      "cell_type": "code",
      "source": [
        "text_embs = np.load(base_dir/'sbert_fulltext_embeddings.npy')\n",
        "text_embs.shape"
      ],
      "metadata": {
        "colab": {
          "base_uri": "https://localhost:8080/"
        },
        "id": "CxkWUv799WnY",
        "outputId": "83209797-5819-46c3-c541-f0a59b71fe35"
      },
      "execution_count": null,
      "outputs": [
        {
          "output_type": "execute_result",
          "data": {
            "text/plain": [
              "(894, 768)"
            ]
          },
          "metadata": {},
          "execution_count": 46
        }
      ]
    },
    {
      "cell_type": "code",
      "source": [
        "final_embs= pd.read_csv('updatedEmbs.csv')\n",
        "final_embs= final_embs.drop('Unnamed: 0',axis=1)\n",
        "final_embs = final_embs.reset_index(drop=True)\n",
        "print(final_embs)\n",
        "\n",
        "text_embs= final_embs"
      ],
      "metadata": {
        "colab": {
          "base_uri": "https://localhost:8080/"
        },
        "id": "WT3XHzLyHf_k",
        "outputId": "9292f7c6-88f2-4f4b-b9cf-441c48b0e2de"
      },
      "execution_count": null,
      "outputs": [
        {
          "output_type": "stream",
          "name": "stdout",
          "text": [
            "             0          1        0.1        1.1     0.1.1     1.1.1         2  \\\n",
            "0     2.304911  -2.593269   2.804225  -2.284072 -0.005148  0.119410 -0.002614   \n",
            "1     3.648591  -3.850141   4.940054  -4.574084  0.003329  0.073702  0.013172   \n",
            "2     3.361981  -3.548838   2.995287  -2.522358 -0.002448  0.007355  0.009388   \n",
            "3     2.504427  -3.042817   2.997637  -2.761740  0.088057  0.066452  0.037585   \n",
            "4    -4.903805   5.116224  -3.947925   4.467043 -0.005155  0.097338  0.004930   \n",
            "..         ...        ...        ...        ...       ...       ...       ...   \n",
            "889   4.191693  -4.286413   3.577387  -3.207390 -0.023371  0.092738  0.007361   \n",
            "890   3.160366  -3.602673   3.074439  -2.675382  0.023739  0.075171  0.006070   \n",
            "891  -3.076209   3.358016  -1.825760   2.256844 -0.010513  0.048753  0.028684   \n",
            "892   2.994384  -2.754756   3.456599  -3.052860  0.024099  0.128845 -0.017875   \n",
            "893 -34.898632  34.124060 -62.266293  62.019722  0.010217  0.085520  0.038988   \n",
            "\n",
            "            3         4         5  ...       758       759       760  \\\n",
            "0    0.019297  0.081178  0.025727  ...  0.012692  0.059102  0.000541   \n",
            "1   -0.012052 -0.019934  0.022083  ... -0.017646  0.061697  0.007149   \n",
            "2    0.053711 -0.023324  0.000288  ...  0.039987  0.010057 -0.038091   \n",
            "3   -0.013241  0.014072  0.023239  ... -0.070302 -0.045334  0.016006   \n",
            "4   -0.013134 -0.012577 -0.004790  ...  0.007845  0.069599 -0.017022   \n",
            "..        ...       ...       ...  ...       ...       ...       ...   \n",
            "889 -0.019501  0.010361  0.021039  ... -0.026921  0.033994  0.025864   \n",
            "890 -0.067172  0.016169  0.024615  ...  0.092023 -0.017697  0.014944   \n",
            "891  0.000889 -0.043573  0.023155  ... -0.050173  0.037019 -0.048023   \n",
            "892  0.012632 -0.030615 -0.001186  ... -0.008388  0.008983 -0.058522   \n",
            "893 -0.019996  0.000146  0.023523  ...  0.025953  0.049041 -0.015561   \n",
            "\n",
            "          761       762       763       764       765       766       767  \n",
            "0    0.006523 -0.018735  0.046029 -0.031323  0.021993 -0.059348  0.010890  \n",
            "1    0.000070  0.010949  0.033709 -0.033934 -0.006214 -0.046594 -0.020140  \n",
            "2   -0.033632 -0.018176 -0.017782  0.028502  0.009641 -0.035604 -0.009934  \n",
            "3    0.018444  0.056975  0.053900  0.043913  0.003843 -0.038083  0.000696  \n",
            "4    0.010712 -0.014984 -0.001413 -0.022211 -0.025620  0.007522 -0.037539  \n",
            "..        ...       ...       ...       ...       ...       ...       ...  \n",
            "889 -0.034472  0.024374 -0.022076 -0.001890  0.006269 -0.019845  0.016206  \n",
            "890 -0.065511  0.016395  0.007684 -0.016207 -0.008501  0.049251 -0.022232  \n",
            "891  0.000220 -0.033158  0.075531  0.064022 -0.000590 -0.031904 -0.002240  \n",
            "892 -0.008533 -0.016264  0.003724 -0.005826 -0.020846 -0.027097 -0.008377  \n",
            "893 -0.064802  0.025398  0.007854 -0.010056  0.026847 -0.055978 -0.010197  \n",
            "\n",
            "[894 rows x 772 columns]\n"
          ]
        }
      ]
    },
    {
      "cell_type": "code",
      "source": [
        "follow_src = torch.tensor(follow_src)\n",
        "follow_dst = torch.tensor(follow_dst)\n",
        "tweet_src = torch.tensor(tweet_src)\n",
        "tweet_dst = torch.tensor(tweet_dst)\n",
        "\n",
        "hetero_graph = dgl.heterograph({\n",
        "    ('user', 'follow', 'user'): (follow_src, follow_dst),\n",
        "    ('user', 'followed-by', 'user'): (follow_dst, follow_src),\n",
        "    ('user', 'tweet', 'article'): (tweet_src, tweet_dst),\n",
        "    ('article', 'tweeted-by', 'user'): (tweet_dst, tweet_src)})\n",
        "\n",
        "hetero_graph.nodes['user'].data['feat'] = torch.arange(hetero_graph.num_nodes('user'))  \n",
        "hetero_graph.nodes['article'].data['feat'] = torch.tensor(text_embs.values.tolist())\n",
        "hetero_graph.nodes['article'].data['label'] = torch.tensor((df.label==\"real\").to_numpy()).long()"
      ],
      "metadata": {
        "id": "ui3y2a80muWe",
        "colab": {
          "base_uri": "https://localhost:8080/"
        },
        "outputId": "0731cfcb-8362-4ccd-ca0e-7510d0e6e1b8"
      },
      "execution_count": null,
      "outputs": [
        {
          "output_type": "stream",
          "name": "stderr",
          "text": [
            "/usr/local/lib/python3.7/dist-packages/ipykernel_launcher.py:1: UserWarning: To copy construct from a tensor, it is recommended to use sourceTensor.clone().detach() or sourceTensor.clone().detach().requires_grad_(True), rather than torch.tensor(sourceTensor).\n",
            "  \"\"\"Entry point for launching an IPython kernel.\n",
            "/usr/local/lib/python3.7/dist-packages/ipykernel_launcher.py:2: UserWarning: To copy construct from a tensor, it is recommended to use sourceTensor.clone().detach() or sourceTensor.clone().detach().requires_grad_(True), rather than torch.tensor(sourceTensor).\n",
            "  \n",
            "/usr/local/lib/python3.7/dist-packages/ipykernel_launcher.py:3: UserWarning: To copy construct from a tensor, it is recommended to use sourceTensor.clone().detach() or sourceTensor.clone().detach().requires_grad_(True), rather than torch.tensor(sourceTensor).\n",
            "  This is separate from the ipykernel package so we can avoid doing imports until\n",
            "/usr/local/lib/python3.7/dist-packages/ipykernel_launcher.py:4: UserWarning: To copy construct from a tensor, it is recommended to use sourceTensor.clone().detach() or sourceTensor.clone().detach().requires_grad_(True), rather than torch.tensor(sourceTensor).\n",
            "  after removing the cwd from sys.path.\n"
          ]
        }
      ]
    },
    {
      "cell_type": "code",
      "source": [
        "hetero_graph.number_of_nodes(ntype='article'), hetero_graph.number_of_nodes(ntype='user')"
      ],
      "metadata": {
        "colab": {
          "base_uri": "https://localhost:8080/"
        },
        "id": "IcmqOPpJsK6Z",
        "outputId": "2e59b447-b5f4-41ff-fb48-e480af93ed67"
      },
      "execution_count": null,
      "outputs": [
        {
          "output_type": "execute_result",
          "data": {
            "text/plain": [
              "(894, 31792)"
            ]
          },
          "metadata": {},
          "execution_count": 137
        }
      ]
    },
    {
      "cell_type": "code",
      "source": [
        "hetero_graph.nodes['article'].data['train_mask'] = torch.zeros(hetero_graph.number_of_nodes(ntype='article'), dtype=torch.bool).bernoulli(0.8)"
      ],
      "metadata": {
        "id": "2LboKsvbsJAR"
      },
      "execution_count": null,
      "outputs": []
    },
    {
      "cell_type": "markdown",
      "source": [
        "### Model"
      ],
      "metadata": {
        "id": "a_NnqbhIvgQm"
      }
    },
    {
      "cell_type": "code",
      "source": [
        "def flatten_dict(d):\n",
        "    for k, v in d.items():\n",
        "        d[k] = v.flatten(1)\n",
        "    return d"
      ],
      "metadata": {
        "id": "LqjDfQQYCzml"
      },
      "execution_count": null,
      "outputs": []
    },
    {
      "cell_type": "code",
      "source": [
        "from collections import defaultdict\n",
        "import torch.nn as nn\n",
        "import torch.nn.functional as F\n",
        "\n",
        "def _d_emb(): return 64\n",
        "\n",
        "d_emb_dict = defaultdict(_d_emb)"
      ],
      "metadata": {
        "id": "oSGL7euSjzR-"
      },
      "execution_count": null,
      "outputs": []
    },
    {
      "cell_type": "code",
      "source": [
        "class NodeEmbedding(nn.Module):\n",
        "\n",
        "    def __init__(self, n_nodes, d_in, d_emb, proj_nodes=None, embed_nodes=None):\n",
        "        super().__init__()\n",
        "        self.proj_nodes = proj_nodes if proj_nodes is not None else list(d_in.keys())\n",
        "        self.embed_nodes = embed_nodes if embed_nodes is not None else list(n_nodes.keys())\n",
        "        self.emb = nn.ModuleDict({k:nn.Embedding(n_nodes[k], d_emb) for k in self.embed_nodes})\n",
        "        self.proj = nn.ModuleDict({k:nn.Linear(d_in[k], d_emb, bias=False) for k in self.proj_nodes})\n",
        "        self.init()\n",
        "\n",
        "    def forward(self, nx):\n",
        "        out = {}\n",
        "        for k, m  in self.emb.items():\n",
        "            out[k] = m(nx[k])\n",
        "        for k, m  in self.proj.items():\n",
        "            out[k] = m(nx[k])\n",
        "        return out\n",
        "\n",
        "    def init(self):\n",
        "        for _, m in self.emb.items():\n",
        "            torch.nn.init.xavier_uniform_(m.weight)\n",
        "        for _, m in self.proj.items():\n",
        "            torch.nn.init.xavier_uniform_(m.weight)"
      ],
      "metadata": {
        "id": "YGqNa5UVgfio"
      },
      "execution_count": null,
      "outputs": []
    },
    {
      "cell_type": "code",
      "source": [
        "emb = NodeEmbedding({k:hetero_graph.num_nodes(k) for k in [\"user\"]}, {\"article\":text_embs.shape[1]}, 64)"
      ],
      "metadata": {
        "id": "HZMUKp0Xl-8v"
      },
      "execution_count": null,
      "outputs": []
    },
    {
      "cell_type": "code",
      "source": [
        "with torch.no_grad():\n",
        "    x = emb(hetero_graph.ndata['feat'])"
      ],
      "metadata": {
        "id": "BTV2S60Hwcut"
      },
      "execution_count": null,
      "outputs": []
    },
    {
      "cell_type": "code",
      "source": [
        "for k, v in x.items():\n",
        "    print(k, v.shape)"
      ],
      "metadata": {
        "colab": {
          "base_uri": "https://localhost:8080/"
        },
        "id": "DPxiP5oiLFPb",
        "outputId": "6dbfc1af-d70d-4af8-8b99-ecee978615a7"
      },
      "execution_count": null,
      "outputs": [
        {
          "output_type": "stream",
          "name": "stdout",
          "text": [
            "user torch.Size([31792, 64])\n",
            "article torch.Size([894, 64])\n"
          ]
        }
      ]
    },
    {
      "cell_type": "code",
      "source": [
        "import torch as th\n",
        "from torch import nn\n",
        "\n",
        "from dgl import function as fn\n",
        "from dgl.nn.functional import edge_softmax\n",
        "from dgl.base import DGLError\n",
        "from dgl.nn.pytorch.utils import Identity\n",
        "from dgl.utils import expand_as_pair\n",
        "\n",
        "\n",
        "class GATConv(nn.Module):\n",
        "    r\"\"\"\n",
        "\n",
        "    Description\n",
        "    -----------\n",
        "    Apply `Graph Attention Network <https://arxiv.org/pdf/1710.10903.pdf>`__\n",
        "    over an input signal.\n",
        "\n",
        "    .. math::\n",
        "        h_i^{(l+1)} = \\sum_{j\\in \\mathcal{N}(i)} \\alpha_{i,j} W^{(l)} h_j^{(l)}\n",
        "\n",
        "    where :math:`\\alpha_{ij}` is the attention score bewteen node :math:`i` and\n",
        "    node :math:`j`:\n",
        "\n",
        "    .. math::\n",
        "        \\alpha_{ij}^{l} &= \\mathrm{softmax_i} (e_{ij}^{l})\n",
        "\n",
        "        e_{ij}^{l} &= \\mathrm{LeakyReLU}\\left(\\vec{a}^T [W h_{i} \\| W h_{j}]\\right)\n",
        "\n",
        "    Parameters\n",
        "    ----------\n",
        "    in_feats : int, or pair of ints\n",
        "        Input feature size; i.e, the number of dimensions of :math:`h_i^{(l)}`.\n",
        "        GATConv can be applied on homogeneous graph and unidirectional\n",
        "        `bipartite graph <https://docs.dgl.ai/generated/dgl.bipartite.html?highlight=bipartite>`__.\n",
        "        If the layer is to be applied to a unidirectional bipartite graph, ``in_feats``\n",
        "        specifies the input feature size on both the source and destination nodes.  If\n",
        "        a scalar is given, the source and destination node feature size would take the\n",
        "        same value.\n",
        "    out_feats : int\n",
        "        Output feature size; i.e, the number of dimensions of :math:`h_i^{(l+1)}`.\n",
        "    num_heads : int\n",
        "        Number of heads in Multi-Head Attention.\n",
        "    feat_drop : float, optional\n",
        "        Dropout rate on feature. Defaults: ``0``.\n",
        "    attn_drop : float, optional\n",
        "        Dropout rate on attention weight. Defaults: ``0``.\n",
        "    negative_slope : float, optional\n",
        "        LeakyReLU angle of negative slope. Defaults: ``0.2``.\n",
        "    residual : bool, optional\n",
        "        If True, use residual connection. Defaults: ``False``.\n",
        "    activation : callable activation function/layer or None, optional.\n",
        "        If not None, applies an activation function to the updated node features.\n",
        "        Default: ``None``.\n",
        "    allow_zero_in_degree : bool, optional\n",
        "        If there are 0-in-degree nodes in the graph, output for those nodes will be invalid\n",
        "        since no message will be passed to those nodes. This is harmful for some applications\n",
        "        causing silent performance regression. This module will raise a DGLError if it detects\n",
        "        0-in-degree nodes in input graph. By setting ``True``, it will suppress the check\n",
        "        and let the users handle it by themselves. Defaults: ``False``.\n",
        "    bias : bool, optional\n",
        "        If True, learns a bias term. Defaults: ``True``.\n",
        "\n",
        "    Note\n",
        "    ----\n",
        "    Zero in-degree nodes will lead to invalid output value. This is because no message\n",
        "    will be passed to those nodes, the aggregation function will be appied on empty input.\n",
        "    A common practice to avoid this is to add a self-loop for each node in the graph if\n",
        "    it is homogeneous, which can be achieved by:\n",
        "\n",
        "    >>> g = ... # a DGLGraph\n",
        "    >>> g = dgl.add_self_loop(g)\n",
        "\n",
        "    Calling ``add_self_loop`` will not work for some graphs, for example, heterogeneous graph\n",
        "    since the edge type can not be decided for self_loop edges. Set ``allow_zero_in_degree``\n",
        "    to ``True`` for those cases to unblock the code and handle zero-in-degree nodes manually.\n",
        "    A common practise to handle this is to filter out the nodes with zero-in-degree when use\n",
        "    after conv.\n",
        "\n",
        "    Examples\n",
        "    --------\n",
        "    >>> import dgl\n",
        "    >>> import numpy as np\n",
        "    >>> import torch as th\n",
        "    >>> from dgl.nn import GATConv\n",
        "\n",
        "    >>> # Case 1: Homogeneous graph\n",
        "    >>> g = dgl.graph(([0,1,2,3,2,5], [1,2,3,4,0,3]))\n",
        "    >>> g = dgl.add_self_loop(g)\n",
        "    >>> feat = th.ones(6, 10)\n",
        "    >>> gatconv = GATConv(10, 2, num_heads=3)\n",
        "    >>> res = gatconv(g, feat)\n",
        "    >>> res\n",
        "    tensor([[[ 3.4570,  1.8634],\n",
        "            [ 1.3805, -0.0762],\n",
        "            [ 1.0390, -1.1479]],\n",
        "            [[ 3.4570,  1.8634],\n",
        "            [ 1.3805, -0.0762],\n",
        "            [ 1.0390, -1.1479]],\n",
        "            [[ 3.4570,  1.8634],\n",
        "            [ 1.3805, -0.0762],\n",
        "            [ 1.0390, -1.1479]],\n",
        "            [[ 3.4570,  1.8634],\n",
        "            [ 1.3805, -0.0762],\n",
        "            [ 1.0390, -1.1479]],\n",
        "            [[ 3.4570,  1.8634],\n",
        "            [ 1.3805, -0.0762],\n",
        "            [ 1.0390, -1.1479]],\n",
        "            [[ 3.4570,  1.8634],\n",
        "            [ 1.3805, -0.0762],\n",
        "            [ 1.0390, -1.1479]]], grad_fn=<BinaryReduceBackward>)\n",
        "\n",
        "    >>> # Case 2: Unidirectional bipartite graph\n",
        "    >>> u = [0, 1, 0, 0, 1]\n",
        "    >>> v = [0, 1, 2, 3, 2]\n",
        "    >>> g = dgl.heterograph({('A', 'r', 'B'): (u, v)})\n",
        "    >>> u_feat = th.tensor(np.random.rand(2, 5).astype(np.float32))\n",
        "    >>> v_feat = th.tensor(np.random.rand(4, 10).astype(np.float32))\n",
        "    >>> gatconv = GATConv((5,10), 2, 3)\n",
        "    >>> res = gatconv(g, (u_feat, v_feat))\n",
        "    >>> res\n",
        "    tensor([[[-0.6066,  1.0268],\n",
        "            [-0.5945, -0.4801],\n",
        "            [ 0.1594,  0.3825]],\n",
        "            [[ 0.0268,  1.0783],\n",
        "            [ 0.5041, -1.3025],\n",
        "            [ 0.6568,  0.7048]],\n",
        "            [[-0.2688,  1.0543],\n",
        "            [-0.0315, -0.9016],\n",
        "            [ 0.3943,  0.5347]],\n",
        "            [[-0.6066,  1.0268],\n",
        "            [-0.5945, -0.4801],\n",
        "            [ 0.1594,  0.3825]]], grad_fn=<BinaryReduceBackward>)\n",
        "    \"\"\"\n",
        "    def __init__(self,\n",
        "                 in_feats,\n",
        "                 out_feats,\n",
        "                 num_heads,\n",
        "                 feat_drop=0.,\n",
        "                 attn_drop=0.,\n",
        "                 negative_slope=0.2,\n",
        "                 residual=False,\n",
        "                 activation=None,\n",
        "                 allow_zero_in_degree=False,\n",
        "                 bias=True):\n",
        "        super(GATConv, self).__init__()\n",
        "        self._num_heads = num_heads\n",
        "        self._in_src_feats, self._in_dst_feats = expand_as_pair(in_feats)\n",
        "        self._out_feats = out_feats\n",
        "        self._allow_zero_in_degree = allow_zero_in_degree\n",
        "        if isinstance(in_feats, tuple):\n",
        "            self.fc_src = nn.Linear(\n",
        "                self._in_src_feats, out_feats * num_heads, bias=False)\n",
        "            self.fc_dst = nn.Linear(\n",
        "                self._in_dst_feats, out_feats * num_heads, bias=False)\n",
        "        else:\n",
        "            self.fc = nn.Linear(\n",
        "                self._in_src_feats, out_feats * num_heads, bias=False)\n",
        "        self.attn_l = nn.Parameter(th.FloatTensor(size=(1, num_heads, out_feats)))\n",
        "        self.attn_r = nn.Parameter(th.FloatTensor(size=(1, num_heads, out_feats)))\n",
        "        self.feat_drop = nn.Dropout(feat_drop)\n",
        "        self.attn_drop = nn.Dropout(attn_drop)\n",
        "        self.leaky_relu = nn.LeakyReLU(negative_slope)\n",
        "        if bias:\n",
        "            self.bias = nn.Parameter(th.FloatTensor(size=(num_heads * out_feats,)))\n",
        "        else:\n",
        "            self.register_buffer('bias', None)\n",
        "        if residual:\n",
        "            if self._in_dst_feats != out_feats * num_heads:\n",
        "                self.res_fc = nn.Linear(\n",
        "                    self._in_dst_feats, num_heads * out_feats, bias=False)\n",
        "            else:\n",
        "                self.res_fc = Identity()\n",
        "        else:\n",
        "            self.register_buffer('res_fc', None)\n",
        "        self.reset_parameters()\n",
        "        self.activation = activation\n",
        "\n",
        "    def reset_parameters(self):\n",
        "        \"\"\"\n",
        "\n",
        "        Description\n",
        "        -----------\n",
        "        Reinitialize learnable parameters.\n",
        "\n",
        "        Note\n",
        "        ----\n",
        "        The fc weights :math:`W^{(l)}` are initialized using Glorot uniform initialization.\n",
        "        The attention weights are using xavier initialization method.\n",
        "        \"\"\"\n",
        "        gain = nn.init.calculate_gain('relu')\n",
        "        if hasattr(self, 'fc'):\n",
        "            nn.init.xavier_normal_(self.fc.weight, gain=gain)\n",
        "        else:\n",
        "            nn.init.xavier_normal_(self.fc_src.weight, gain=gain)\n",
        "            nn.init.xavier_normal_(self.fc_dst.weight, gain=gain)\n",
        "        nn.init.xavier_normal_(self.attn_l, gain=gain)\n",
        "        nn.init.xavier_normal_(self.attn_r, gain=gain)\n",
        "        if self.bias is not None:\n",
        "            nn.init.constant_(self.bias, 0)\n",
        "        if isinstance(self.res_fc, nn.Linear):\n",
        "            nn.init.xavier_normal_(self.res_fc.weight, gain=gain)\n",
        "\n",
        "    def set_allow_zero_in_degree(self, set_value):\n",
        "        r\"\"\"\n",
        "\n",
        "        Description\n",
        "        -----------\n",
        "        Set allow_zero_in_degree flag.\n",
        "\n",
        "        Parameters\n",
        "        ----------\n",
        "        set_value : bool\n",
        "            The value to be set to the flag.\n",
        "        \"\"\"\n",
        "        self._allow_zero_in_degree = set_value\n",
        "\n",
        "    def forward(self, graph, feat, get_attention=False):\n",
        "        r\"\"\"\n",
        "\n",
        "        Description\n",
        "        -----------\n",
        "        Compute graph attention network layer.\n",
        "\n",
        "        Parameters\n",
        "        ----------\n",
        "        graph : DGLGraph\n",
        "            The graph.\n",
        "        feat : torch.Tensor or pair of torch.Tensor\n",
        "            If a torch.Tensor is given, the input feature of shape :math:`(N, *, D_{in})` where\n",
        "            :math:`D_{in}` is size of input feature, :math:`N` is the number of nodes.\n",
        "            If a pair of torch.Tensor is given, the pair must contain two tensors of shape\n",
        "            :math:`(N_{in}, *, D_{in_{src}})` and :math:`(N_{out}, *, D_{in_{dst}})`.\n",
        "        get_attention : bool, optional\n",
        "            Whether to return the attention values. Default to False.\n",
        "\n",
        "        Returns\n",
        "        -------\n",
        "        torch.Tensor\n",
        "            The output feature of shape :math:`(N, *, H, D_{out})` where :math:`H`\n",
        "            is the number of heads, and :math:`D_{out}` is size of output feature.\n",
        "        torch.Tensor, optional\n",
        "            The attention values of shape :math:`(E, *, H, 1)`, where :math:`E` is the number of\n",
        "            edges. This is returned only when :attr:`get_attention` is ``True``.\n",
        "\n",
        "        Raises\n",
        "        ------\n",
        "        DGLError\n",
        "            If there are 0-in-degree nodes in the input graph, it will raise DGLError\n",
        "            since no message will be passed to those nodes. This will cause invalid output.\n",
        "            The error can be ignored by setting ``allow_zero_in_degree`` parameter to ``True``.\n",
        "        \"\"\"\n",
        "        with graph.local_scope():\n",
        "            if not self._allow_zero_in_degree:\n",
        "                if (graph.in_degrees() == 0).any():\n",
        "                    raise DGLError('There are 0-in-degree nodes in the graph, '\n",
        "                                   'output for those nodes will be invalid. '\n",
        "                                   'This is harmful for some applications, '\n",
        "                                   'causing silent performance regression. '\n",
        "                                   'Adding self-loop on the input graph by '\n",
        "                                   'calling `g = dgl.add_self_loop(g)` will resolve '\n",
        "                                   'the issue. Setting ``allow_zero_in_degree`` '\n",
        "                                   'to be `True` when constructing this module will '\n",
        "                                   'suppress the check and let the code run.')\n",
        "\n",
        "            if isinstance(feat, tuple):\n",
        "                src_prefix_shape = feat[0].shape[:-1]\n",
        "                dst_prefix_shape = feat[1].shape[:-1]\n",
        "                h_src = self.feat_drop(feat[0])\n",
        "                h_dst = self.feat_drop(feat[1])\n",
        "                if not hasattr(self, 'fc_src'):\n",
        "                    feat_src = self.fc(h_src).view(\n",
        "                        *src_prefix_shape, self._num_heads, self._out_feats)\n",
        "                    feat_dst = self.fc(h_dst).view(\n",
        "                        *dst_prefix_shape, self._num_heads, self._out_feats)\n",
        "                else:\n",
        "                    feat_src = self.fc_src(h_src).view(\n",
        "                        *src_prefix_shape, self._num_heads, self._out_feats)\n",
        "                    feat_dst = self.fc_dst(h_dst).view(\n",
        "                        *dst_prefix_shape, self._num_heads, self._out_feats)\n",
        "            else:\n",
        "                src_prefix_shape = dst_prefix_shape = feat.shape[:-1]\n",
        "                h_src = h_dst = self.feat_drop(feat)\n",
        "                feat_src = feat_dst = self.fc(h_src).view(\n",
        "                    *src_prefix_shape, self._num_heads, self._out_feats)\n",
        "                if graph.is_block:\n",
        "                    feat_dst = feat_src[:graph.number_of_dst_nodes()]\n",
        "                    h_dst = h_dst[:graph.number_of_dst_nodes()]\n",
        "                    dst_prefix_shape = (graph.number_of_dst_nodes(),) + dst_prefix_shape[1:]\n",
        "            # NOTE: GAT paper uses \"first concatenation then linear projection\"\n",
        "            # to compute attention scores, while ours is \"first projection then\n",
        "            # addition\", the two approaches are mathematically equivalent:\n",
        "            # We decompose the weight vector a mentioned in the paper into\n",
        "            # [a_l || a_r], then\n",
        "            # a^T [Wh_i || Wh_j] = a_l Wh_i + a_r Wh_j\n",
        "            # Our implementation is much efficient because we do not need to\n",
        "            # save [Wh_i || Wh_j] on edges, which is not memory-efficient. Plus,\n",
        "            # addition could be optimized with DGL's built-in function u_add_v,\n",
        "            # which further speeds up computation and saves memory footprint.\n",
        "            el = (feat_src * self.attn_l).sum(dim=-1).unsqueeze(-1)\n",
        "            er = (feat_dst * self.attn_r).sum(dim=-1).unsqueeze(-1)\n",
        "            graph.srcdata.update({'ft': feat_src, 'el': el})\n",
        "            graph.dstdata.update({'er': er})\n",
        "            # compute edge attention, el and er are a_l Wh_i and a_r Wh_j respectively.\n",
        "            graph.apply_edges(fn.u_add_v('el', 'er', 'e'))\n",
        "            e = self.leaky_relu(graph.edata.pop('e'))\n",
        "            # compute softmax\n",
        "            graph.edata['a'] = self.attn_drop(edge_softmax(graph, e))\n",
        "            # message passing\n",
        "            graph.update_all(fn.u_mul_e('ft', 'a', 'm'),\n",
        "                             fn.sum('m', 'ft'))\n",
        "            rst = graph.dstdata['ft']\n",
        "            # residual\n",
        "            if self.res_fc is not None:\n",
        "                # Use -1 rather than self._num_heads to handle broadcasting\n",
        "                resval = self.res_fc(h_dst).view(*dst_prefix_shape, self._num_heads, self._out_feats)\n",
        "                rst = rst + resval\n",
        "            # bias\n",
        "            if self.bias is not None:\n",
        "                rst = rst + self.bias.view(\n",
        "                    *((1,) * len(dst_prefix_shape)), self._num_heads, self._out_feats)\n",
        "            # activation\n",
        "            if self.activation:\n",
        "                rst = self.activation(rst)\n",
        "\n",
        "            if get_attention:\n",
        "                return rst, graph.edata['a']\n",
        "            else:\n",
        "                return rst\n"
      ],
      "metadata": {
        "id": "k82o39yKiI6l"
      },
      "execution_count": null,
      "outputs": []
    },
    {
      "cell_type": "code",
      "source": [
        "class GATEncoder(torch.nn.Module):\n",
        "\n",
        "    def __init__(self, d_in, d_h, etypes, num_heads=1, dropout=0.1):\n",
        "        super().__init__()\n",
        "        self.conv1 = dgl.nn.HeteroGraphConv({\n",
        "            rel : GATConv(d_in, d_h, num_heads, dropout, dropout,\n",
        "                      residual=True, activation=nn.SELU(), \n",
        "                  ) for rel in etypes\n",
        "        })\n",
        "        self.conv2 = dgl.nn.HeteroGraphConv({\n",
        "            rel : GATConv(d_h*num_heads, d_h, num_heads, dropout, dropout,\n",
        "                      residual=True, activation=None, \n",
        "                  ) for rel in etypes\n",
        "        })\n",
        "\n",
        "    def forward(self, graph, x):\n",
        "        x = flatten_dict(self.conv1(graph, x))\n",
        "        x = flatten_dict(self.conv2(graph, x))\n",
        "        return x"
      ],
      "metadata": {
        "id": "VFx3l8mOsuke"
      },
      "execution_count": null,
      "outputs": []
    },
    {
      "cell_type": "code",
      "source": [
        "hetero_graph.etypes"
      ],
      "metadata": {
        "colab": {
          "base_uri": "https://localhost:8080/"
        },
        "id": "kD2XRKbc1y05",
        "outputId": "8ece3114-9ccc-4884-8d74-d3be29db0298"
      },
      "execution_count": null,
      "outputs": [
        {
          "output_type": "execute_result",
          "data": {
            "text/plain": [
              "['tweeted-by', 'follow', 'followed-by', 'tweet']"
            ]
          },
          "metadata": {},
          "execution_count": 147
        }
      ]
    },
    {
      "cell_type": "code",
      "source": [
        "enc = GATEncoder(64, 64, hetero_graph.etypes)\n",
        "\n",
        "with torch.no_grad():\n",
        "    out = enc(hetero_graph, x)\n",
        "\n",
        "out"
      ],
      "metadata": {
        "colab": {
          "base_uri": "https://localhost:8080/"
        },
        "id": "2qTEeMWt1NUq",
        "outputId": "a6b3b628-f6c9-44d9-cdbb-2e7b4f520010"
      },
      "execution_count": null,
      "outputs": [
        {
          "output_type": "execute_result",
          "data": {
            "text/plain": [
              "{'article': tensor([[ -0.3266,  -0.1038,   0.5618,  ...,   0.4009,   0.1296,  -0.5952],\n",
              "         [ -0.4580,   0.0000,   0.7422,  ...,   0.6925,   0.2199,  -0.6376],\n",
              "         [ -0.4343,  -0.2204,   0.0000,  ...,   0.3569,   0.1222,  -0.3507],\n",
              "         ...,\n",
              "         [  0.1897,   0.0000,  -0.7964,  ...,  -0.3503,  -0.3299,   0.2973],\n",
              "         [ -0.3282,  -0.2300,   0.5708,  ...,   0.4786,   0.2101,  -0.3290],\n",
              "         [-12.0255,   3.7374,  12.9729,  ...,   5.3041,  10.3260,   1.5975]]),\n",
              " 'user': tensor([[ -7.2155,   7.6744,  -8.2647,  ..., -20.2857,  59.6293,  29.0458],\n",
              "         [ -0.4352,  -9.0474, -13.5770,  ...,   8.4836,   1.3013, -38.1259],\n",
              "         [ -0.5463,  -8.7641, -13.9313,  ...,   8.5986,   1.5491, -38.2353],\n",
              "         ...,\n",
              "         [  1.9327,   9.0553,  16.0887,  ...,   9.9675,   5.9753,  15.6539],\n",
              "         [  1.7392,   8.9214,  16.1832,  ...,   9.8050,   5.8482,  15.7382],\n",
              "         [  1.8573,   9.1020,  15.9386,  ...,  10.2020,   5.8472,  15.6696]])}"
            ]
          },
          "metadata": {},
          "execution_count": 148
        }
      ]
    },
    {
      "cell_type": "code",
      "source": [
        "class HetGNN(nn.Module):\n",
        "\n",
        "    def __init__(self, g, n_nodes, d_feats, d_emb, d_h, tgt_ntype, num_heads=1):\n",
        "        super().__init__()\n",
        "        self.tgt_ntype = tgt_ntype\n",
        "        self.emb = NodeEmbedding(n_nodes, d_feats, d_emb)\n",
        "        self.encoder = GATEncoder(d_emb, d_h, g.etypes, num_heads)\n",
        "        self.head = nn.Linear(d_h*num_heads, 2)\n",
        "\n",
        "    def forward(self, graph, x):\n",
        "        h = self.emb(x)\n",
        "        h = self.encoder(graph, h)\n",
        "        return self.head(h[self.tgt_ntype])"
      ],
      "metadata": {
        "id": "QKkjZgvfzZbn"
      },
      "execution_count": null,
      "outputs": []
    },
    {
      "cell_type": "code",
      "source": [
        "model = HetGNN(hetero_graph, {k:hetero_graph.num_nodes(k) for k in [\"user\"]}, {'article':text_embs.shape[1]}, 64, 64, \"article\")"
      ],
      "metadata": {
        "id": "aY0DeDcd3jy-"
      },
      "execution_count": null,
      "outputs": []
    },
    {
      "cell_type": "code",
      "source": [
        "with torch.no_grad():\n",
        "    x = hetero_graph.ndata['feat']\n",
        "    logits = model(hetero_graph, x)\n",
        "\n",
        "logits"
      ],
      "metadata": {
        "colab": {
          "base_uri": "https://localhost:8080/"
        },
        "id": "gz8m3W6l4S6J",
        "outputId": "899b27d1-8351-4c7f-b2b4-5ed52e5812e9"
      },
      "execution_count": null,
      "outputs": [
        {
          "output_type": "execute_result",
          "data": {
            "text/plain": [
              "tensor([[ 0.0963,  0.0365],\n",
              "        [-0.1045,  0.0137],\n",
              "        [-0.0582, -0.0235],\n",
              "        ...,\n",
              "        [-0.1146,  0.1215],\n",
              "        [-0.1310, -0.2164],\n",
              "        [ 1.8734, 11.6708]])"
            ]
          },
          "metadata": {},
          "execution_count": 151
        }
      ]
    },
    {
      "cell_type": "code",
      "source": [
        "def accuracy(logits, labels):\n",
        "    return (logits.argmax(-1) == labels).float().mean()"
      ],
      "metadata": {
        "id": "BunQmwFY8Xso"
      },
      "execution_count": null,
      "outputs": []
    },
    {
      "cell_type": "code",
      "source": [
        "model = HetGNN(hetero_graph, {k:hetero_graph.num_nodes(k) for k in [\"user\"]}, {'article':text_embs.shape[1]}, 64, 64, \"article\")\n",
        "\n",
        "x = hetero_graph.ndata['feat']\n",
        "train_mask = hetero_graph.ndata['train_mask']['article']\n",
        "labels = hetero_graph.ndata['label']['article']"
      ],
      "metadata": {
        "id": "yvbuuvi556U4"
      },
      "execution_count": null,
      "outputs": []
    },
    {
      "cell_type": "code",
      "source": [
        "opt = torch.optim.Adam(model.parameters(), lr=0.01)\n",
        "\n",
        "for epoch in range(20):\n",
        "    model.train()\n",
        "    logits = model(hetero_graph, x)\n",
        "\n",
        "    print(logits)\n",
        "    \n",
        "    loss = F.cross_entropy(logits[train_mask], labels[train_mask])\n",
        "    acc = accuracy(logits[train_mask], labels[train_mask])*100\n",
        "    opt.zero_grad()\n",
        "    loss.backward()\n",
        "    opt.step()\n",
        "\n",
        "    with torch.no_grad():\n",
        "        val_loss = F.cross_entropy(logits[~train_mask], labels[~train_mask])\n",
        "        val_acc = accuracy(logits[~train_mask], labels[~train_mask])*100\n",
        "    print(f\"{epoch+1:>2}: Train loss {loss.item():.4f}, acc {acc:.2f}%; validation loss {val_loss.item():.4f}, acc {val_acc:.2f}%\")\n"
      ],
      "metadata": {
        "colab": {
          "base_uri": "https://localhost:8080/"
        },
        "id": "Kiu8dH-42Xay",
        "outputId": "aa0c33ca-399b-4806-ed75-5dabea79913e"
      },
      "execution_count": null,
      "outputs": [
        {
          "output_type": "stream",
          "name": "stdout",
          "text": [
            "tensor([[-0.2874, -0.3603],\n",
            "        [-0.4980, -0.8707],\n",
            "        [-0.1554, -0.5768],\n",
            "        ...,\n",
            "        [ 0.1294,  0.3665],\n",
            "        [-0.2618, -0.4451],\n",
            "        [ 4.5736,  0.2186]], grad_fn=<AddmmBackward0>)\n",
            " 1: Train loss 1.2515, acc 84.13%; validation loss 0.9299, acc 86.26%\n",
            "tensor([[ -0.2401,  -0.2760],\n",
            "        [  0.2363,  -1.2636],\n",
            "        [ -0.0862,  -0.8869],\n",
            "        ...,\n",
            "        [ -0.1976,   0.6902],\n",
            "        [ -0.0295,  -0.4517],\n",
            "        [-15.1066,  25.2293]], grad_fn=<AddmmBackward0>)\n",
            " 2: Train loss 0.3669, acc 94.38%; validation loss 0.3607, acc 94.51%\n",
            "tensor([[  0.1031,  -0.9675],\n",
            "        [  0.4150,  -1.6566],\n",
            "        [  0.4670,  -0.9733],\n",
            "        ...,\n",
            "        [ -0.6938,   0.6817],\n",
            "        [  0.2941,  -0.6591],\n",
            "        [-42.2921,  56.4076]], grad_fn=<AddmmBackward0>)\n",
            " 3: Train loss 0.2540, acc 94.94%; validation loss 0.2636, acc 94.51%\n",
            "tensor([[  0.5598,  -1.4951],\n",
            "        [  0.9858,  -2.2431],\n",
            "        [  0.9860,  -1.5142],\n",
            "        ...,\n",
            "        [ -0.9161,   1.2317],\n",
            "        [  0.4683,  -1.4312],\n",
            "        [-51.1611,  78.0308]], grad_fn=<AddmmBackward0>)\n",
            " 4: Train loss 0.1914, acc 96.07%; validation loss 0.1959, acc 94.51%\n",
            "tensor([[  0.9486,  -1.4858],\n",
            "        [  1.4217,  -2.4783],\n",
            "        [  1.3151,  -2.0440],\n",
            "        ...,\n",
            "        [ -1.3425,   1.6388],\n",
            "        [  0.9802,  -1.5067],\n",
            "        [-34.4852,  45.9914]], grad_fn=<AddmmBackward0>)\n",
            " 5: Train loss 0.1569, acc 95.79%; validation loss 0.1669, acc 95.05%\n",
            "tensor([[  0.9214,  -2.0059],\n",
            "        [  1.3010,  -2.3176],\n",
            "        [  1.2381,  -2.4322],\n",
            "        ...,\n",
            "        [ -1.5235,   1.6835],\n",
            "        [  1.4326,  -2.2024],\n",
            "        [-93.3208, 120.1333]], grad_fn=<AddmmBackward0>)\n",
            " 6: Train loss 0.1351, acc 95.65%; validation loss 0.1435, acc 95.05%\n",
            "tensor([[  1.0561,  -2.1625],\n",
            "        [  1.9742,  -2.5982],\n",
            "        [  2.0300,  -3.0272],\n",
            "        ...,\n",
            "        [ -1.2893,   2.1207],\n",
            "        [  1.1947,  -1.6325],\n",
            "        [-55.6052,  76.0516]], grad_fn=<AddmmBackward0>)\n",
            " 7: Train loss 0.1236, acc 95.79%; validation loss 0.1365, acc 95.05%\n",
            "tensor([[   1.4272,   -2.1653],\n",
            "        [   1.7882,   -3.2086],\n",
            "        [   1.9254,   -2.9921],\n",
            "        ...,\n",
            "        [  -2.1482,    1.8538],\n",
            "        [   1.6274,   -2.7324],\n",
            "        [-128.7219,  154.1974]], grad_fn=<AddmmBackward0>)\n",
            " 8: Train loss 0.1163, acc 95.79%; validation loss 0.1293, acc 93.96%\n",
            "tensor([[   1.6045,   -2.0736],\n",
            "        [   1.8247,   -3.0902],\n",
            "        [   2.3313,   -3.0079],\n",
            "        ...,\n",
            "        [  -2.2156,    2.6536],\n",
            "        [   1.7397,   -2.8192],\n",
            "        [-183.7207,  209.2574]], grad_fn=<AddmmBackward0>)\n",
            " 9: Train loss 0.1086, acc 95.93%; validation loss 0.1247, acc 93.96%\n",
            "tensor([[   1.2229,   -1.8596],\n",
            "        [   1.9043,   -2.5316],\n",
            "        [   2.2962,   -3.3103],\n",
            "        ...,\n",
            "        [  -2.0322,    2.2654],\n",
            "        [   1.8822,   -2.7735],\n",
            "        [-133.3876,  157.0548]], grad_fn=<AddmmBackward0>)\n",
            "10: Train loss 0.1058, acc 95.65%; validation loss 0.1213, acc 93.96%\n",
            "tensor([[   1.6510,   -2.1628],\n",
            "        [   2.2677,   -3.5076],\n",
            "        [   2.8942,   -3.9428],\n",
            "        ...,\n",
            "        [  -2.5602,    2.8621],\n",
            "        [   1.6585,   -2.2539],\n",
            "        [-147.2499,  169.1334]], grad_fn=<AddmmBackward0>)\n",
            "11: Train loss 0.1047, acc 95.93%; validation loss 0.1227, acc 93.96%\n",
            "tensor([[   1.5021,   -2.8089],\n",
            "        [   2.8802,   -3.8554],\n",
            "        [   2.6092,   -3.8681],\n",
            "        ...,\n",
            "        [  -2.4934,    2.4708],\n",
            "        [   1.8405,   -2.7406],\n",
            "        [-244.5584,  275.5790]], grad_fn=<AddmmBackward0>)\n",
            "12: Train loss 0.0981, acc 96.21%; validation loss 0.1244, acc 94.51%\n",
            "tensor([[   1.9815,   -2.8007],\n",
            "        [   3.1358,   -4.0933],\n",
            "        [   3.3075,   -3.7348],\n",
            "        ...,\n",
            "        [  -2.5605,    2.5084],\n",
            "        [   2.0348,   -3.3928],\n",
            "        [-191.6037,  231.9718]], grad_fn=<AddmmBackward0>)\n",
            "13: Train loss 0.0962, acc 96.49%; validation loss 0.1331, acc 93.96%\n",
            "tensor([[   2.1802,   -2.7417],\n",
            "        [   3.0758,   -3.8003],\n",
            "        [   3.2132,   -3.9493],\n",
            "        ...,\n",
            "        [  -3.1859,    3.0314],\n",
            "        [   2.7329,   -3.9156],\n",
            "        [-232.7158,  299.0608]], grad_fn=<AddmmBackward0>)\n",
            "14: Train loss 0.0932, acc 96.77%; validation loss 0.1310, acc 93.96%\n",
            "tensor([[   2.0198,   -2.7654],\n",
            "        [   3.0177,   -4.0977],\n",
            "        [   3.2579,   -4.2271],\n",
            "        ...,\n",
            "        [  -2.6945,    2.5294],\n",
            "        [   2.7973,   -3.5521],\n",
            "        [-279.9800,  338.2866]], grad_fn=<AddmmBackward0>)\n",
            "15: Train loss 0.0911, acc 96.77%; validation loss 0.1391, acc 93.96%\n",
            "tensor([[  2.3522,  -3.1235],\n",
            "        [  3.6969,  -4.3842],\n",
            "        [  3.0382,  -4.0093],\n",
            "        ...,\n",
            "        [ -2.3231,   2.8664],\n",
            "        [  2.3910,  -3.4312],\n",
            "        [-28.5684,  35.3557]], grad_fn=<AddmmBackward0>)\n",
            "16: Train loss 0.0868, acc 97.05%; validation loss 0.1413, acc 94.51%\n",
            "tensor([[   2.3260,   -3.3008],\n",
            "        [   3.3477,   -4.1481],\n",
            "        [   2.6173,   -4.6052],\n",
            "        ...,\n",
            "        [  -3.3674,    3.1687],\n",
            "        [   2.8272,   -3.1627],\n",
            "        [-240.3981,  260.4127]], grad_fn=<AddmmBackward0>)\n",
            "17: Train loss 0.0821, acc 96.91%; validation loss 0.1541, acc 94.51%\n",
            "tensor([[   1.9515,   -2.8469],\n",
            "        [   3.1454,   -4.1132],\n",
            "        [   3.7104,   -4.8630],\n",
            "        ...,\n",
            "        [  -2.9720,    3.1337],\n",
            "        [   2.0930,   -3.0259],\n",
            "        [-271.1260,  322.3648]], grad_fn=<AddmmBackward0>)\n",
            "18: Train loss 0.0804, acc 97.33%; validation loss 0.1433, acc 95.05%\n",
            "tensor([[   2.6224,   -3.6014],\n",
            "        [   3.9044,   -4.9599],\n",
            "        [   2.9822,   -3.2083],\n",
            "        ...,\n",
            "        [  -3.3337,    3.2401],\n",
            "        [   3.0181,   -4.0092],\n",
            "        [-258.0001,  308.4138]], grad_fn=<AddmmBackward0>)\n",
            "19: Train loss 0.0762, acc 97.05%; validation loss 0.1558, acc 93.96%\n",
            "tensor([[   2.2022,   -3.2318],\n",
            "        [   3.5229,   -5.1706],\n",
            "        [   3.0191,   -3.1618],\n",
            "        ...,\n",
            "        [  -2.6186,    3.6509],\n",
            "        [   2.8798,   -3.6697],\n",
            "        [-269.2566,  298.9719]], grad_fn=<AddmmBackward0>)\n",
            "20: Train loss 0.0730, acc 97.33%; validation loss 0.1567, acc 93.96%\n"
          ]
        }
      ]
    },
    {
      "cell_type": "code",
      "source": [
        "my_data = pd.DataFrame(text_embs)"
      ],
      "metadata": {
        "id": "J3G9DxAdFyiB"
      },
      "execution_count": null,
      "outputs": []
    },
    {
      "cell_type": "code",
      "source": [
        "my_data\n"
      ],
      "metadata": {
        "id": "_tVEa3L9CmE0",
        "colab": {
          "base_uri": "https://localhost:8080/",
          "height": 424
        },
        "outputId": "ecb4effd-18f9-4787-ab65-bebead622c3c"
      },
      "execution_count": null,
      "outputs": [
        {
          "output_type": "execute_result",
          "data": {
            "text/plain": [
              "             0          1        0.1        1.1     0.1.1     1.1.1         2  \\\n",
              "0     2.304911  -2.593269   2.804225  -2.284072 -0.005148  0.119410 -0.002614   \n",
              "1     3.648591  -3.850141   4.940054  -4.574084  0.003329  0.073702  0.013172   \n",
              "2     3.361981  -3.548838   2.995287  -2.522358 -0.002448  0.007355  0.009388   \n",
              "3     2.504427  -3.042817   2.997637  -2.761740  0.088057  0.066452  0.037585   \n",
              "4    -4.903805   5.116224  -3.947925   4.467043 -0.005155  0.097338  0.004930   \n",
              "..         ...        ...        ...        ...       ...       ...       ...   \n",
              "889   4.191693  -4.286413   3.577387  -3.207390 -0.023371  0.092738  0.007361   \n",
              "890   3.160366  -3.602673   3.074439  -2.675382  0.023739  0.075171  0.006070   \n",
              "891  -3.076209   3.358016  -1.825760   2.256844 -0.010513  0.048753  0.028684   \n",
              "892   2.994384  -2.754756   3.456599  -3.052860  0.024099  0.128845 -0.017875   \n",
              "893 -34.898632  34.124060 -62.266293  62.019722  0.010217  0.085520  0.038988   \n",
              "\n",
              "            3         4         5  ...       758       759       760  \\\n",
              "0    0.019297  0.081178  0.025727  ...  0.012692  0.059102  0.000541   \n",
              "1   -0.012052 -0.019934  0.022083  ... -0.017646  0.061697  0.007149   \n",
              "2    0.053711 -0.023324  0.000288  ...  0.039987  0.010057 -0.038091   \n",
              "3   -0.013241  0.014072  0.023239  ... -0.070302 -0.045334  0.016006   \n",
              "4   -0.013134 -0.012577 -0.004790  ...  0.007845  0.069599 -0.017022   \n",
              "..        ...       ...       ...  ...       ...       ...       ...   \n",
              "889 -0.019501  0.010361  0.021039  ... -0.026921  0.033994  0.025864   \n",
              "890 -0.067172  0.016169  0.024615  ...  0.092023 -0.017697  0.014944   \n",
              "891  0.000889 -0.043573  0.023155  ... -0.050173  0.037019 -0.048023   \n",
              "892  0.012632 -0.030615 -0.001186  ... -0.008388  0.008983 -0.058522   \n",
              "893 -0.019996  0.000146  0.023523  ...  0.025953  0.049041 -0.015561   \n",
              "\n",
              "          761       762       763       764       765       766       767  \n",
              "0    0.006523 -0.018735  0.046029 -0.031323  0.021993 -0.059348  0.010890  \n",
              "1    0.000070  0.010949  0.033709 -0.033934 -0.006214 -0.046594 -0.020140  \n",
              "2   -0.033632 -0.018176 -0.017782  0.028502  0.009641 -0.035604 -0.009934  \n",
              "3    0.018444  0.056975  0.053900  0.043913  0.003843 -0.038083  0.000696  \n",
              "4    0.010712 -0.014984 -0.001413 -0.022211 -0.025620  0.007522 -0.037539  \n",
              "..        ...       ...       ...       ...       ...       ...       ...  \n",
              "889 -0.034472  0.024374 -0.022076 -0.001890  0.006269 -0.019845  0.016206  \n",
              "890 -0.065511  0.016395  0.007684 -0.016207 -0.008501  0.049251 -0.022232  \n",
              "891  0.000220 -0.033158  0.075531  0.064022 -0.000590 -0.031904 -0.002240  \n",
              "892 -0.008533 -0.016264  0.003724 -0.005826 -0.020846 -0.027097 -0.008377  \n",
              "893 -0.064802  0.025398  0.007854 -0.010056  0.026847 -0.055978 -0.010197  \n",
              "\n",
              "[894 rows x 772 columns]"
            ],
            "text/html": [
              "\n",
              "  <div id=\"df-fbc914ff-71bb-4c78-bb50-b9d7324cee35\">\n",
              "    <div class=\"colab-df-container\">\n",
              "      <div>\n",
              "<style scoped>\n",
              "    .dataframe tbody tr th:only-of-type {\n",
              "        vertical-align: middle;\n",
              "    }\n",
              "\n",
              "    .dataframe tbody tr th {\n",
              "        vertical-align: top;\n",
              "    }\n",
              "\n",
              "    .dataframe thead th {\n",
              "        text-align: right;\n",
              "    }\n",
              "</style>\n",
              "<table border=\"1\" class=\"dataframe\">\n",
              "  <thead>\n",
              "    <tr style=\"text-align: right;\">\n",
              "      <th></th>\n",
              "      <th>0</th>\n",
              "      <th>1</th>\n",
              "      <th>0.1</th>\n",
              "      <th>1.1</th>\n",
              "      <th>0.1.1</th>\n",
              "      <th>1.1.1</th>\n",
              "      <th>2</th>\n",
              "      <th>3</th>\n",
              "      <th>4</th>\n",
              "      <th>5</th>\n",
              "      <th>...</th>\n",
              "      <th>758</th>\n",
              "      <th>759</th>\n",
              "      <th>760</th>\n",
              "      <th>761</th>\n",
              "      <th>762</th>\n",
              "      <th>763</th>\n",
              "      <th>764</th>\n",
              "      <th>765</th>\n",
              "      <th>766</th>\n",
              "      <th>767</th>\n",
              "    </tr>\n",
              "  </thead>\n",
              "  <tbody>\n",
              "    <tr>\n",
              "      <th>0</th>\n",
              "      <td>2.304911</td>\n",
              "      <td>-2.593269</td>\n",
              "      <td>2.804225</td>\n",
              "      <td>-2.284072</td>\n",
              "      <td>-0.005148</td>\n",
              "      <td>0.119410</td>\n",
              "      <td>-0.002614</td>\n",
              "      <td>0.019297</td>\n",
              "      <td>0.081178</td>\n",
              "      <td>0.025727</td>\n",
              "      <td>...</td>\n",
              "      <td>0.012692</td>\n",
              "      <td>0.059102</td>\n",
              "      <td>0.000541</td>\n",
              "      <td>0.006523</td>\n",
              "      <td>-0.018735</td>\n",
              "      <td>0.046029</td>\n",
              "      <td>-0.031323</td>\n",
              "      <td>0.021993</td>\n",
              "      <td>-0.059348</td>\n",
              "      <td>0.010890</td>\n",
              "    </tr>\n",
              "    <tr>\n",
              "      <th>1</th>\n",
              "      <td>3.648591</td>\n",
              "      <td>-3.850141</td>\n",
              "      <td>4.940054</td>\n",
              "      <td>-4.574084</td>\n",
              "      <td>0.003329</td>\n",
              "      <td>0.073702</td>\n",
              "      <td>0.013172</td>\n",
              "      <td>-0.012052</td>\n",
              "      <td>-0.019934</td>\n",
              "      <td>0.022083</td>\n",
              "      <td>...</td>\n",
              "      <td>-0.017646</td>\n",
              "      <td>0.061697</td>\n",
              "      <td>0.007149</td>\n",
              "      <td>0.000070</td>\n",
              "      <td>0.010949</td>\n",
              "      <td>0.033709</td>\n",
              "      <td>-0.033934</td>\n",
              "      <td>-0.006214</td>\n",
              "      <td>-0.046594</td>\n",
              "      <td>-0.020140</td>\n",
              "    </tr>\n",
              "    <tr>\n",
              "      <th>2</th>\n",
              "      <td>3.361981</td>\n",
              "      <td>-3.548838</td>\n",
              "      <td>2.995287</td>\n",
              "      <td>-2.522358</td>\n",
              "      <td>-0.002448</td>\n",
              "      <td>0.007355</td>\n",
              "      <td>0.009388</td>\n",
              "      <td>0.053711</td>\n",
              "      <td>-0.023324</td>\n",
              "      <td>0.000288</td>\n",
              "      <td>...</td>\n",
              "      <td>0.039987</td>\n",
              "      <td>0.010057</td>\n",
              "      <td>-0.038091</td>\n",
              "      <td>-0.033632</td>\n",
              "      <td>-0.018176</td>\n",
              "      <td>-0.017782</td>\n",
              "      <td>0.028502</td>\n",
              "      <td>0.009641</td>\n",
              "      <td>-0.035604</td>\n",
              "      <td>-0.009934</td>\n",
              "    </tr>\n",
              "    <tr>\n",
              "      <th>3</th>\n",
              "      <td>2.504427</td>\n",
              "      <td>-3.042817</td>\n",
              "      <td>2.997637</td>\n",
              "      <td>-2.761740</td>\n",
              "      <td>0.088057</td>\n",
              "      <td>0.066452</td>\n",
              "      <td>0.037585</td>\n",
              "      <td>-0.013241</td>\n",
              "      <td>0.014072</td>\n",
              "      <td>0.023239</td>\n",
              "      <td>...</td>\n",
              "      <td>-0.070302</td>\n",
              "      <td>-0.045334</td>\n",
              "      <td>0.016006</td>\n",
              "      <td>0.018444</td>\n",
              "      <td>0.056975</td>\n",
              "      <td>0.053900</td>\n",
              "      <td>0.043913</td>\n",
              "      <td>0.003843</td>\n",
              "      <td>-0.038083</td>\n",
              "      <td>0.000696</td>\n",
              "    </tr>\n",
              "    <tr>\n",
              "      <th>4</th>\n",
              "      <td>-4.903805</td>\n",
              "      <td>5.116224</td>\n",
              "      <td>-3.947925</td>\n",
              "      <td>4.467043</td>\n",
              "      <td>-0.005155</td>\n",
              "      <td>0.097338</td>\n",
              "      <td>0.004930</td>\n",
              "      <td>-0.013134</td>\n",
              "      <td>-0.012577</td>\n",
              "      <td>-0.004790</td>\n",
              "      <td>...</td>\n",
              "      <td>0.007845</td>\n",
              "      <td>0.069599</td>\n",
              "      <td>-0.017022</td>\n",
              "      <td>0.010712</td>\n",
              "      <td>-0.014984</td>\n",
              "      <td>-0.001413</td>\n",
              "      <td>-0.022211</td>\n",
              "      <td>-0.025620</td>\n",
              "      <td>0.007522</td>\n",
              "      <td>-0.037539</td>\n",
              "    </tr>\n",
              "    <tr>\n",
              "      <th>...</th>\n",
              "      <td>...</td>\n",
              "      <td>...</td>\n",
              "      <td>...</td>\n",
              "      <td>...</td>\n",
              "      <td>...</td>\n",
              "      <td>...</td>\n",
              "      <td>...</td>\n",
              "      <td>...</td>\n",
              "      <td>...</td>\n",
              "      <td>...</td>\n",
              "      <td>...</td>\n",
              "      <td>...</td>\n",
              "      <td>...</td>\n",
              "      <td>...</td>\n",
              "      <td>...</td>\n",
              "      <td>...</td>\n",
              "      <td>...</td>\n",
              "      <td>...</td>\n",
              "      <td>...</td>\n",
              "      <td>...</td>\n",
              "      <td>...</td>\n",
              "    </tr>\n",
              "    <tr>\n",
              "      <th>889</th>\n",
              "      <td>4.191693</td>\n",
              "      <td>-4.286413</td>\n",
              "      <td>3.577387</td>\n",
              "      <td>-3.207390</td>\n",
              "      <td>-0.023371</td>\n",
              "      <td>0.092738</td>\n",
              "      <td>0.007361</td>\n",
              "      <td>-0.019501</td>\n",
              "      <td>0.010361</td>\n",
              "      <td>0.021039</td>\n",
              "      <td>...</td>\n",
              "      <td>-0.026921</td>\n",
              "      <td>0.033994</td>\n",
              "      <td>0.025864</td>\n",
              "      <td>-0.034472</td>\n",
              "      <td>0.024374</td>\n",
              "      <td>-0.022076</td>\n",
              "      <td>-0.001890</td>\n",
              "      <td>0.006269</td>\n",
              "      <td>-0.019845</td>\n",
              "      <td>0.016206</td>\n",
              "    </tr>\n",
              "    <tr>\n",
              "      <th>890</th>\n",
              "      <td>3.160366</td>\n",
              "      <td>-3.602673</td>\n",
              "      <td>3.074439</td>\n",
              "      <td>-2.675382</td>\n",
              "      <td>0.023739</td>\n",
              "      <td>0.075171</td>\n",
              "      <td>0.006070</td>\n",
              "      <td>-0.067172</td>\n",
              "      <td>0.016169</td>\n",
              "      <td>0.024615</td>\n",
              "      <td>...</td>\n",
              "      <td>0.092023</td>\n",
              "      <td>-0.017697</td>\n",
              "      <td>0.014944</td>\n",
              "      <td>-0.065511</td>\n",
              "      <td>0.016395</td>\n",
              "      <td>0.007684</td>\n",
              "      <td>-0.016207</td>\n",
              "      <td>-0.008501</td>\n",
              "      <td>0.049251</td>\n",
              "      <td>-0.022232</td>\n",
              "    </tr>\n",
              "    <tr>\n",
              "      <th>891</th>\n",
              "      <td>-3.076209</td>\n",
              "      <td>3.358016</td>\n",
              "      <td>-1.825760</td>\n",
              "      <td>2.256844</td>\n",
              "      <td>-0.010513</td>\n",
              "      <td>0.048753</td>\n",
              "      <td>0.028684</td>\n",
              "      <td>0.000889</td>\n",
              "      <td>-0.043573</td>\n",
              "      <td>0.023155</td>\n",
              "      <td>...</td>\n",
              "      <td>-0.050173</td>\n",
              "      <td>0.037019</td>\n",
              "      <td>-0.048023</td>\n",
              "      <td>0.000220</td>\n",
              "      <td>-0.033158</td>\n",
              "      <td>0.075531</td>\n",
              "      <td>0.064022</td>\n",
              "      <td>-0.000590</td>\n",
              "      <td>-0.031904</td>\n",
              "      <td>-0.002240</td>\n",
              "    </tr>\n",
              "    <tr>\n",
              "      <th>892</th>\n",
              "      <td>2.994384</td>\n",
              "      <td>-2.754756</td>\n",
              "      <td>3.456599</td>\n",
              "      <td>-3.052860</td>\n",
              "      <td>0.024099</td>\n",
              "      <td>0.128845</td>\n",
              "      <td>-0.017875</td>\n",
              "      <td>0.012632</td>\n",
              "      <td>-0.030615</td>\n",
              "      <td>-0.001186</td>\n",
              "      <td>...</td>\n",
              "      <td>-0.008388</td>\n",
              "      <td>0.008983</td>\n",
              "      <td>-0.058522</td>\n",
              "      <td>-0.008533</td>\n",
              "      <td>-0.016264</td>\n",
              "      <td>0.003724</td>\n",
              "      <td>-0.005826</td>\n",
              "      <td>-0.020846</td>\n",
              "      <td>-0.027097</td>\n",
              "      <td>-0.008377</td>\n",
              "    </tr>\n",
              "    <tr>\n",
              "      <th>893</th>\n",
              "      <td>-34.898632</td>\n",
              "      <td>34.124060</td>\n",
              "      <td>-62.266293</td>\n",
              "      <td>62.019722</td>\n",
              "      <td>0.010217</td>\n",
              "      <td>0.085520</td>\n",
              "      <td>0.038988</td>\n",
              "      <td>-0.019996</td>\n",
              "      <td>0.000146</td>\n",
              "      <td>0.023523</td>\n",
              "      <td>...</td>\n",
              "      <td>0.025953</td>\n",
              "      <td>0.049041</td>\n",
              "      <td>-0.015561</td>\n",
              "      <td>-0.064802</td>\n",
              "      <td>0.025398</td>\n",
              "      <td>0.007854</td>\n",
              "      <td>-0.010056</td>\n",
              "      <td>0.026847</td>\n",
              "      <td>-0.055978</td>\n",
              "      <td>-0.010197</td>\n",
              "    </tr>\n",
              "  </tbody>\n",
              "</table>\n",
              "<p>894 rows × 772 columns</p>\n",
              "</div>\n",
              "      <button class=\"colab-df-convert\" onclick=\"convertToInteractive('df-fbc914ff-71bb-4c78-bb50-b9d7324cee35')\"\n",
              "              title=\"Convert this dataframe to an interactive table.\"\n",
              "              style=\"display:none;\">\n",
              "        \n",
              "  <svg xmlns=\"http://www.w3.org/2000/svg\" height=\"24px\"viewBox=\"0 0 24 24\"\n",
              "       width=\"24px\">\n",
              "    <path d=\"M0 0h24v24H0V0z\" fill=\"none\"/>\n",
              "    <path d=\"M18.56 5.44l.94 2.06.94-2.06 2.06-.94-2.06-.94-.94-2.06-.94 2.06-2.06.94zm-11 1L8.5 8.5l.94-2.06 2.06-.94-2.06-.94L8.5 2.5l-.94 2.06-2.06.94zm10 10l.94 2.06.94-2.06 2.06-.94-2.06-.94-.94-2.06-.94 2.06-2.06.94z\"/><path d=\"M17.41 7.96l-1.37-1.37c-.4-.4-.92-.59-1.43-.59-.52 0-1.04.2-1.43.59L10.3 9.45l-7.72 7.72c-.78.78-.78 2.05 0 2.83L4 21.41c.39.39.9.59 1.41.59.51 0 1.02-.2 1.41-.59l7.78-7.78 2.81-2.81c.8-.78.8-2.07 0-2.86zM5.41 20L4 18.59l7.72-7.72 1.47 1.35L5.41 20z\"/>\n",
              "  </svg>\n",
              "      </button>\n",
              "      \n",
              "  <style>\n",
              "    .colab-df-container {\n",
              "      display:flex;\n",
              "      flex-wrap:wrap;\n",
              "      gap: 12px;\n",
              "    }\n",
              "\n",
              "    .colab-df-convert {\n",
              "      background-color: #E8F0FE;\n",
              "      border: none;\n",
              "      border-radius: 50%;\n",
              "      cursor: pointer;\n",
              "      display: none;\n",
              "      fill: #1967D2;\n",
              "      height: 32px;\n",
              "      padding: 0 0 0 0;\n",
              "      width: 32px;\n",
              "    }\n",
              "\n",
              "    .colab-df-convert:hover {\n",
              "      background-color: #E2EBFA;\n",
              "      box-shadow: 0px 1px 2px rgba(60, 64, 67, 0.3), 0px 1px 3px 1px rgba(60, 64, 67, 0.15);\n",
              "      fill: #174EA6;\n",
              "    }\n",
              "\n",
              "    [theme=dark] .colab-df-convert {\n",
              "      background-color: #3B4455;\n",
              "      fill: #D2E3FC;\n",
              "    }\n",
              "\n",
              "    [theme=dark] .colab-df-convert:hover {\n",
              "      background-color: #434B5C;\n",
              "      box-shadow: 0px 1px 3px 1px rgba(0, 0, 0, 0.15);\n",
              "      filter: drop-shadow(0px 1px 2px rgba(0, 0, 0, 0.3));\n",
              "      fill: #FFFFFF;\n",
              "    }\n",
              "  </style>\n",
              "\n",
              "      <script>\n",
              "        const buttonEl =\n",
              "          document.querySelector('#df-fbc914ff-71bb-4c78-bb50-b9d7324cee35 button.colab-df-convert');\n",
              "        buttonEl.style.display =\n",
              "          google.colab.kernel.accessAllowed ? 'block' : 'none';\n",
              "\n",
              "        async function convertToInteractive(key) {\n",
              "          const element = document.querySelector('#df-fbc914ff-71bb-4c78-bb50-b9d7324cee35');\n",
              "          const dataTable =\n",
              "            await google.colab.kernel.invokeFunction('convertToInteractive',\n",
              "                                                     [key], {});\n",
              "          if (!dataTable) return;\n",
              "\n",
              "          const docLinkHtml = 'Like what you see? Visit the ' +\n",
              "            '<a target=\"_blank\" href=https://colab.research.google.com/notebooks/data_table.ipynb>data table notebook</a>'\n",
              "            + ' to learn more about interactive tables.';\n",
              "          element.innerHTML = '';\n",
              "          dataTable['output_type'] = 'display_data';\n",
              "          await google.colab.output.renderOutput(dataTable, element);\n",
              "          const docLink = document.createElement('div');\n",
              "          docLink.innerHTML = docLinkHtml;\n",
              "          element.appendChild(docLink);\n",
              "        }\n",
              "      </script>\n",
              "    </div>\n",
              "  </div>\n",
              "  "
            ]
          },
          "metadata": {},
          "execution_count": 156
        }
      ]
    },
    {
      "cell_type": "code",
      "source": [
        "my_tensor = pd.DataFrame(logits.detach().numpy())"
      ],
      "metadata": {
        "id": "kPUollGIGOZ1"
      },
      "execution_count": null,
      "outputs": []
    },
    {
      "cell_type": "code",
      "source": [
        "final_df = pd.concat([my_tensor,my_data],axis=1)"
      ],
      "metadata": {
        "id": "xB1C9nIbGus4"
      },
      "execution_count": null,
      "outputs": []
    },
    {
      "cell_type": "code",
      "source": [
        "final_df"
      ],
      "metadata": {
        "colab": {
          "base_uri": "https://localhost:8080/",
          "height": 424
        },
        "id": "wH_ulxSqHQCh",
        "outputId": "693a190c-9e23-480e-be9f-586bf7c49d04"
      },
      "execution_count": null,
      "outputs": [
        {
          "output_type": "execute_result",
          "data": {
            "text/plain": [
              "              0           1          0          1        0.1        1.1  \\\n",
              "0      2.202197   -3.231779   2.304911  -2.593269   2.804225  -2.284072   \n",
              "1      3.522924   -5.170597   3.648591  -3.850141   4.940054  -4.574084   \n",
              "2      3.019130   -3.161778   3.361981  -3.548838   2.995287  -2.522358   \n",
              "3      2.575432   -3.333760   2.504427  -3.042817   2.997637  -2.761740   \n",
              "4     -5.555932    6.784262  -4.903805   5.116224  -3.947925   4.467043   \n",
              "..          ...         ...        ...        ...        ...        ...   \n",
              "889    3.670107   -4.268828   4.191693  -4.286413   3.577387  -3.207390   \n",
              "890    2.294929   -2.837848   3.160366  -3.602673   3.074439  -2.675382   \n",
              "891   -2.618627    3.650897  -3.076209   3.358016  -1.825760   2.256844   \n",
              "892    2.879795   -3.669688   2.994384  -2.754756   3.456599  -3.052860   \n",
              "893 -269.256592  298.971924 -34.898632  34.124060 -62.266293  62.019722   \n",
              "\n",
              "        0.1.1     1.1.1         2         3  ...       758       759  \\\n",
              "0   -0.005148  0.119410 -0.002614  0.019297  ...  0.012692  0.059102   \n",
              "1    0.003329  0.073702  0.013172 -0.012052  ... -0.017646  0.061697   \n",
              "2   -0.002448  0.007355  0.009388  0.053711  ...  0.039987  0.010057   \n",
              "3    0.088057  0.066452  0.037585 -0.013241  ... -0.070302 -0.045334   \n",
              "4   -0.005155  0.097338  0.004930 -0.013134  ...  0.007845  0.069599   \n",
              "..        ...       ...       ...       ...  ...       ...       ...   \n",
              "889 -0.023371  0.092738  0.007361 -0.019501  ... -0.026921  0.033994   \n",
              "890  0.023739  0.075171  0.006070 -0.067172  ...  0.092023 -0.017697   \n",
              "891 -0.010513  0.048753  0.028684  0.000889  ... -0.050173  0.037019   \n",
              "892  0.024099  0.128845 -0.017875  0.012632  ... -0.008388  0.008983   \n",
              "893  0.010217  0.085520  0.038988 -0.019996  ...  0.025953  0.049041   \n",
              "\n",
              "          760       761       762       763       764       765       766  \\\n",
              "0    0.000541  0.006523 -0.018735  0.046029 -0.031323  0.021993 -0.059348   \n",
              "1    0.007149  0.000070  0.010949  0.033709 -0.033934 -0.006214 -0.046594   \n",
              "2   -0.038091 -0.033632 -0.018176 -0.017782  0.028502  0.009641 -0.035604   \n",
              "3    0.016006  0.018444  0.056975  0.053900  0.043913  0.003843 -0.038083   \n",
              "4   -0.017022  0.010712 -0.014984 -0.001413 -0.022211 -0.025620  0.007522   \n",
              "..        ...       ...       ...       ...       ...       ...       ...   \n",
              "889  0.025864 -0.034472  0.024374 -0.022076 -0.001890  0.006269 -0.019845   \n",
              "890  0.014944 -0.065511  0.016395  0.007684 -0.016207 -0.008501  0.049251   \n",
              "891 -0.048023  0.000220 -0.033158  0.075531  0.064022 -0.000590 -0.031904   \n",
              "892 -0.058522 -0.008533 -0.016264  0.003724 -0.005826 -0.020846 -0.027097   \n",
              "893 -0.015561 -0.064802  0.025398  0.007854 -0.010056  0.026847 -0.055978   \n",
              "\n",
              "          767  \n",
              "0    0.010890  \n",
              "1   -0.020140  \n",
              "2   -0.009934  \n",
              "3    0.000696  \n",
              "4   -0.037539  \n",
              "..        ...  \n",
              "889  0.016206  \n",
              "890 -0.022232  \n",
              "891 -0.002240  \n",
              "892 -0.008377  \n",
              "893 -0.010197  \n",
              "\n",
              "[894 rows x 774 columns]"
            ],
            "text/html": [
              "\n",
              "  <div id=\"df-ffa9ecaf-f3af-4d43-8394-9faf0dca8326\">\n",
              "    <div class=\"colab-df-container\">\n",
              "      <div>\n",
              "<style scoped>\n",
              "    .dataframe tbody tr th:only-of-type {\n",
              "        vertical-align: middle;\n",
              "    }\n",
              "\n",
              "    .dataframe tbody tr th {\n",
              "        vertical-align: top;\n",
              "    }\n",
              "\n",
              "    .dataframe thead th {\n",
              "        text-align: right;\n",
              "    }\n",
              "</style>\n",
              "<table border=\"1\" class=\"dataframe\">\n",
              "  <thead>\n",
              "    <tr style=\"text-align: right;\">\n",
              "      <th></th>\n",
              "      <th>0</th>\n",
              "      <th>1</th>\n",
              "      <th>0</th>\n",
              "      <th>1</th>\n",
              "      <th>0.1</th>\n",
              "      <th>1.1</th>\n",
              "      <th>0.1.1</th>\n",
              "      <th>1.1.1</th>\n",
              "      <th>2</th>\n",
              "      <th>3</th>\n",
              "      <th>...</th>\n",
              "      <th>758</th>\n",
              "      <th>759</th>\n",
              "      <th>760</th>\n",
              "      <th>761</th>\n",
              "      <th>762</th>\n",
              "      <th>763</th>\n",
              "      <th>764</th>\n",
              "      <th>765</th>\n",
              "      <th>766</th>\n",
              "      <th>767</th>\n",
              "    </tr>\n",
              "  </thead>\n",
              "  <tbody>\n",
              "    <tr>\n",
              "      <th>0</th>\n",
              "      <td>2.202197</td>\n",
              "      <td>-3.231779</td>\n",
              "      <td>2.304911</td>\n",
              "      <td>-2.593269</td>\n",
              "      <td>2.804225</td>\n",
              "      <td>-2.284072</td>\n",
              "      <td>-0.005148</td>\n",
              "      <td>0.119410</td>\n",
              "      <td>-0.002614</td>\n",
              "      <td>0.019297</td>\n",
              "      <td>...</td>\n",
              "      <td>0.012692</td>\n",
              "      <td>0.059102</td>\n",
              "      <td>0.000541</td>\n",
              "      <td>0.006523</td>\n",
              "      <td>-0.018735</td>\n",
              "      <td>0.046029</td>\n",
              "      <td>-0.031323</td>\n",
              "      <td>0.021993</td>\n",
              "      <td>-0.059348</td>\n",
              "      <td>0.010890</td>\n",
              "    </tr>\n",
              "    <tr>\n",
              "      <th>1</th>\n",
              "      <td>3.522924</td>\n",
              "      <td>-5.170597</td>\n",
              "      <td>3.648591</td>\n",
              "      <td>-3.850141</td>\n",
              "      <td>4.940054</td>\n",
              "      <td>-4.574084</td>\n",
              "      <td>0.003329</td>\n",
              "      <td>0.073702</td>\n",
              "      <td>0.013172</td>\n",
              "      <td>-0.012052</td>\n",
              "      <td>...</td>\n",
              "      <td>-0.017646</td>\n",
              "      <td>0.061697</td>\n",
              "      <td>0.007149</td>\n",
              "      <td>0.000070</td>\n",
              "      <td>0.010949</td>\n",
              "      <td>0.033709</td>\n",
              "      <td>-0.033934</td>\n",
              "      <td>-0.006214</td>\n",
              "      <td>-0.046594</td>\n",
              "      <td>-0.020140</td>\n",
              "    </tr>\n",
              "    <tr>\n",
              "      <th>2</th>\n",
              "      <td>3.019130</td>\n",
              "      <td>-3.161778</td>\n",
              "      <td>3.361981</td>\n",
              "      <td>-3.548838</td>\n",
              "      <td>2.995287</td>\n",
              "      <td>-2.522358</td>\n",
              "      <td>-0.002448</td>\n",
              "      <td>0.007355</td>\n",
              "      <td>0.009388</td>\n",
              "      <td>0.053711</td>\n",
              "      <td>...</td>\n",
              "      <td>0.039987</td>\n",
              "      <td>0.010057</td>\n",
              "      <td>-0.038091</td>\n",
              "      <td>-0.033632</td>\n",
              "      <td>-0.018176</td>\n",
              "      <td>-0.017782</td>\n",
              "      <td>0.028502</td>\n",
              "      <td>0.009641</td>\n",
              "      <td>-0.035604</td>\n",
              "      <td>-0.009934</td>\n",
              "    </tr>\n",
              "    <tr>\n",
              "      <th>3</th>\n",
              "      <td>2.575432</td>\n",
              "      <td>-3.333760</td>\n",
              "      <td>2.504427</td>\n",
              "      <td>-3.042817</td>\n",
              "      <td>2.997637</td>\n",
              "      <td>-2.761740</td>\n",
              "      <td>0.088057</td>\n",
              "      <td>0.066452</td>\n",
              "      <td>0.037585</td>\n",
              "      <td>-0.013241</td>\n",
              "      <td>...</td>\n",
              "      <td>-0.070302</td>\n",
              "      <td>-0.045334</td>\n",
              "      <td>0.016006</td>\n",
              "      <td>0.018444</td>\n",
              "      <td>0.056975</td>\n",
              "      <td>0.053900</td>\n",
              "      <td>0.043913</td>\n",
              "      <td>0.003843</td>\n",
              "      <td>-0.038083</td>\n",
              "      <td>0.000696</td>\n",
              "    </tr>\n",
              "    <tr>\n",
              "      <th>4</th>\n",
              "      <td>-5.555932</td>\n",
              "      <td>6.784262</td>\n",
              "      <td>-4.903805</td>\n",
              "      <td>5.116224</td>\n",
              "      <td>-3.947925</td>\n",
              "      <td>4.467043</td>\n",
              "      <td>-0.005155</td>\n",
              "      <td>0.097338</td>\n",
              "      <td>0.004930</td>\n",
              "      <td>-0.013134</td>\n",
              "      <td>...</td>\n",
              "      <td>0.007845</td>\n",
              "      <td>0.069599</td>\n",
              "      <td>-0.017022</td>\n",
              "      <td>0.010712</td>\n",
              "      <td>-0.014984</td>\n",
              "      <td>-0.001413</td>\n",
              "      <td>-0.022211</td>\n",
              "      <td>-0.025620</td>\n",
              "      <td>0.007522</td>\n",
              "      <td>-0.037539</td>\n",
              "    </tr>\n",
              "    <tr>\n",
              "      <th>...</th>\n",
              "      <td>...</td>\n",
              "      <td>...</td>\n",
              "      <td>...</td>\n",
              "      <td>...</td>\n",
              "      <td>...</td>\n",
              "      <td>...</td>\n",
              "      <td>...</td>\n",
              "      <td>...</td>\n",
              "      <td>...</td>\n",
              "      <td>...</td>\n",
              "      <td>...</td>\n",
              "      <td>...</td>\n",
              "      <td>...</td>\n",
              "      <td>...</td>\n",
              "      <td>...</td>\n",
              "      <td>...</td>\n",
              "      <td>...</td>\n",
              "      <td>...</td>\n",
              "      <td>...</td>\n",
              "      <td>...</td>\n",
              "      <td>...</td>\n",
              "    </tr>\n",
              "    <tr>\n",
              "      <th>889</th>\n",
              "      <td>3.670107</td>\n",
              "      <td>-4.268828</td>\n",
              "      <td>4.191693</td>\n",
              "      <td>-4.286413</td>\n",
              "      <td>3.577387</td>\n",
              "      <td>-3.207390</td>\n",
              "      <td>-0.023371</td>\n",
              "      <td>0.092738</td>\n",
              "      <td>0.007361</td>\n",
              "      <td>-0.019501</td>\n",
              "      <td>...</td>\n",
              "      <td>-0.026921</td>\n",
              "      <td>0.033994</td>\n",
              "      <td>0.025864</td>\n",
              "      <td>-0.034472</td>\n",
              "      <td>0.024374</td>\n",
              "      <td>-0.022076</td>\n",
              "      <td>-0.001890</td>\n",
              "      <td>0.006269</td>\n",
              "      <td>-0.019845</td>\n",
              "      <td>0.016206</td>\n",
              "    </tr>\n",
              "    <tr>\n",
              "      <th>890</th>\n",
              "      <td>2.294929</td>\n",
              "      <td>-2.837848</td>\n",
              "      <td>3.160366</td>\n",
              "      <td>-3.602673</td>\n",
              "      <td>3.074439</td>\n",
              "      <td>-2.675382</td>\n",
              "      <td>0.023739</td>\n",
              "      <td>0.075171</td>\n",
              "      <td>0.006070</td>\n",
              "      <td>-0.067172</td>\n",
              "      <td>...</td>\n",
              "      <td>0.092023</td>\n",
              "      <td>-0.017697</td>\n",
              "      <td>0.014944</td>\n",
              "      <td>-0.065511</td>\n",
              "      <td>0.016395</td>\n",
              "      <td>0.007684</td>\n",
              "      <td>-0.016207</td>\n",
              "      <td>-0.008501</td>\n",
              "      <td>0.049251</td>\n",
              "      <td>-0.022232</td>\n",
              "    </tr>\n",
              "    <tr>\n",
              "      <th>891</th>\n",
              "      <td>-2.618627</td>\n",
              "      <td>3.650897</td>\n",
              "      <td>-3.076209</td>\n",
              "      <td>3.358016</td>\n",
              "      <td>-1.825760</td>\n",
              "      <td>2.256844</td>\n",
              "      <td>-0.010513</td>\n",
              "      <td>0.048753</td>\n",
              "      <td>0.028684</td>\n",
              "      <td>0.000889</td>\n",
              "      <td>...</td>\n",
              "      <td>-0.050173</td>\n",
              "      <td>0.037019</td>\n",
              "      <td>-0.048023</td>\n",
              "      <td>0.000220</td>\n",
              "      <td>-0.033158</td>\n",
              "      <td>0.075531</td>\n",
              "      <td>0.064022</td>\n",
              "      <td>-0.000590</td>\n",
              "      <td>-0.031904</td>\n",
              "      <td>-0.002240</td>\n",
              "    </tr>\n",
              "    <tr>\n",
              "      <th>892</th>\n",
              "      <td>2.879795</td>\n",
              "      <td>-3.669688</td>\n",
              "      <td>2.994384</td>\n",
              "      <td>-2.754756</td>\n",
              "      <td>3.456599</td>\n",
              "      <td>-3.052860</td>\n",
              "      <td>0.024099</td>\n",
              "      <td>0.128845</td>\n",
              "      <td>-0.017875</td>\n",
              "      <td>0.012632</td>\n",
              "      <td>...</td>\n",
              "      <td>-0.008388</td>\n",
              "      <td>0.008983</td>\n",
              "      <td>-0.058522</td>\n",
              "      <td>-0.008533</td>\n",
              "      <td>-0.016264</td>\n",
              "      <td>0.003724</td>\n",
              "      <td>-0.005826</td>\n",
              "      <td>-0.020846</td>\n",
              "      <td>-0.027097</td>\n",
              "      <td>-0.008377</td>\n",
              "    </tr>\n",
              "    <tr>\n",
              "      <th>893</th>\n",
              "      <td>-269.256592</td>\n",
              "      <td>298.971924</td>\n",
              "      <td>-34.898632</td>\n",
              "      <td>34.124060</td>\n",
              "      <td>-62.266293</td>\n",
              "      <td>62.019722</td>\n",
              "      <td>0.010217</td>\n",
              "      <td>0.085520</td>\n",
              "      <td>0.038988</td>\n",
              "      <td>-0.019996</td>\n",
              "      <td>...</td>\n",
              "      <td>0.025953</td>\n",
              "      <td>0.049041</td>\n",
              "      <td>-0.015561</td>\n",
              "      <td>-0.064802</td>\n",
              "      <td>0.025398</td>\n",
              "      <td>0.007854</td>\n",
              "      <td>-0.010056</td>\n",
              "      <td>0.026847</td>\n",
              "      <td>-0.055978</td>\n",
              "      <td>-0.010197</td>\n",
              "    </tr>\n",
              "  </tbody>\n",
              "</table>\n",
              "<p>894 rows × 774 columns</p>\n",
              "</div>\n",
              "      <button class=\"colab-df-convert\" onclick=\"convertToInteractive('df-ffa9ecaf-f3af-4d43-8394-9faf0dca8326')\"\n",
              "              title=\"Convert this dataframe to an interactive table.\"\n",
              "              style=\"display:none;\">\n",
              "        \n",
              "  <svg xmlns=\"http://www.w3.org/2000/svg\" height=\"24px\"viewBox=\"0 0 24 24\"\n",
              "       width=\"24px\">\n",
              "    <path d=\"M0 0h24v24H0V0z\" fill=\"none\"/>\n",
              "    <path d=\"M18.56 5.44l.94 2.06.94-2.06 2.06-.94-2.06-.94-.94-2.06-.94 2.06-2.06.94zm-11 1L8.5 8.5l.94-2.06 2.06-.94-2.06-.94L8.5 2.5l-.94 2.06-2.06.94zm10 10l.94 2.06.94-2.06 2.06-.94-2.06-.94-.94-2.06-.94 2.06-2.06.94z\"/><path d=\"M17.41 7.96l-1.37-1.37c-.4-.4-.92-.59-1.43-.59-.52 0-1.04.2-1.43.59L10.3 9.45l-7.72 7.72c-.78.78-.78 2.05 0 2.83L4 21.41c.39.39.9.59 1.41.59.51 0 1.02-.2 1.41-.59l7.78-7.78 2.81-2.81c.8-.78.8-2.07 0-2.86zM5.41 20L4 18.59l7.72-7.72 1.47 1.35L5.41 20z\"/>\n",
              "  </svg>\n",
              "      </button>\n",
              "      \n",
              "  <style>\n",
              "    .colab-df-container {\n",
              "      display:flex;\n",
              "      flex-wrap:wrap;\n",
              "      gap: 12px;\n",
              "    }\n",
              "\n",
              "    .colab-df-convert {\n",
              "      background-color: #E8F0FE;\n",
              "      border: none;\n",
              "      border-radius: 50%;\n",
              "      cursor: pointer;\n",
              "      display: none;\n",
              "      fill: #1967D2;\n",
              "      height: 32px;\n",
              "      padding: 0 0 0 0;\n",
              "      width: 32px;\n",
              "    }\n",
              "\n",
              "    .colab-df-convert:hover {\n",
              "      background-color: #E2EBFA;\n",
              "      box-shadow: 0px 1px 2px rgba(60, 64, 67, 0.3), 0px 1px 3px 1px rgba(60, 64, 67, 0.15);\n",
              "      fill: #174EA6;\n",
              "    }\n",
              "\n",
              "    [theme=dark] .colab-df-convert {\n",
              "      background-color: #3B4455;\n",
              "      fill: #D2E3FC;\n",
              "    }\n",
              "\n",
              "    [theme=dark] .colab-df-convert:hover {\n",
              "      background-color: #434B5C;\n",
              "      box-shadow: 0px 1px 3px 1px rgba(0, 0, 0, 0.15);\n",
              "      filter: drop-shadow(0px 1px 2px rgba(0, 0, 0, 0.3));\n",
              "      fill: #FFFFFF;\n",
              "    }\n",
              "  </style>\n",
              "\n",
              "      <script>\n",
              "        const buttonEl =\n",
              "          document.querySelector('#df-ffa9ecaf-f3af-4d43-8394-9faf0dca8326 button.colab-df-convert');\n",
              "        buttonEl.style.display =\n",
              "          google.colab.kernel.accessAllowed ? 'block' : 'none';\n",
              "\n",
              "        async function convertToInteractive(key) {\n",
              "          const element = document.querySelector('#df-ffa9ecaf-f3af-4d43-8394-9faf0dca8326');\n",
              "          const dataTable =\n",
              "            await google.colab.kernel.invokeFunction('convertToInteractive',\n",
              "                                                     [key], {});\n",
              "          if (!dataTable) return;\n",
              "\n",
              "          const docLinkHtml = 'Like what you see? Visit the ' +\n",
              "            '<a target=\"_blank\" href=https://colab.research.google.com/notebooks/data_table.ipynb>data table notebook</a>'\n",
              "            + ' to learn more about interactive tables.';\n",
              "          element.innerHTML = '';\n",
              "          dataTable['output_type'] = 'display_data';\n",
              "          await google.colab.output.renderOutput(dataTable, element);\n",
              "          const docLink = document.createElement('div');\n",
              "          docLink.innerHTML = docLinkHtml;\n",
              "          element.appendChild(docLink);\n",
              "        }\n",
              "      </script>\n",
              "    </div>\n",
              "  </div>\n",
              "  "
            ]
          },
          "metadata": {},
          "execution_count": 159
        }
      ]
    },
    {
      "cell_type": "code",
      "source": [
        "final_df.to_csv('updatedEmbs.csv')"
      ],
      "metadata": {
        "id": "-eN1WO9hHRGq"
      },
      "execution_count": null,
      "outputs": []
    }
  ]
}